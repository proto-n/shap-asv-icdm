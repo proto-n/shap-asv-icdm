{
 "cells": [
  {
   "cell_type": "code",
   "execution_count": 1,
   "id": "59c71bf5",
   "metadata": {},
   "outputs": [],
   "source": [
    "import numpy as np"
   ]
  },
  {
   "cell_type": "markdown",
   "id": "ffec5b86",
   "metadata": {},
   "source": [
    "# Numeric simulation of Example 3.2"
   ]
  },
  {
   "cell_type": "markdown",
   "id": "131559d7",
   "metadata": {},
   "source": [
    "We can demonstrate the incorrect attributions of Example B also with average absolute contributions instead of variance reduction."
   ]
  },
  {
   "cell_type": "code",
   "execution_count": 2,
   "id": "95647267",
   "metadata": {},
   "outputs": [],
   "source": [
    "n = 10000000\n",
    "X_1 = np.random.normal(0,1,n)\n",
    "X_2 = np.random.normal(0,1,n)\n",
    "T = (2*X_1 + 2*X_2)**2"
   ]
  },
  {
   "cell_type": "code",
   "execution_count": 3,
   "id": "9c0e1900",
   "metadata": {
    "scrolled": true
   },
   "outputs": [
    {
     "data": {
      "text/plain": [
       "8.007545926527365"
      ]
     },
     "execution_count": 3,
     "metadata": {},
     "output_type": "execute_result"
    }
   ],
   "source": [
    "phi_0 = T.mean()\n",
    "phi_0"
   ]
  },
  {
   "cell_type": "markdown",
   "id": "97182314",
   "metadata": {},
   "source": [
    "$$E(T-E(T)\\mid X_1)=E(4X_1^2\\mid X_1) + E(8X_1X_2\\mid X_1) + E(4X_2^{2}\\mid X_1) - E(T) = 4X_1^2 + 0 + E(4X_2^2) - E(T)= 4X_1^2 + E(4X_2^2) - E(T)$$"
   ]
  },
  {
   "cell_type": "code",
   "execution_count": 4,
   "id": "aceff9ff",
   "metadata": {},
   "outputs": [],
   "source": [
    "phi_1 = 4*X_1**2 + (4*X_2**2).mean() - phi_0\n",
    "phi_2 = T-(phi_1+phi_0)"
   ]
  },
  {
   "cell_type": "code",
   "execution_count": 5,
   "id": "c7f52a64",
   "metadata": {},
   "outputs": [
    {
     "data": {
      "text/plain": [
       "(3.8741757980911196, 6.60627310666455)"
      ]
     },
     "execution_count": 5,
     "metadata": {},
     "output_type": "execute_result"
    }
   ],
   "source": [
    "np.abs(phi_1).mean(), np.abs(phi_2).mean()"
   ]
  },
  {
   "cell_type": "code",
   "execution_count": null,
   "id": "88a6b647",
   "metadata": {},
   "outputs": [],
   "source": []
  }
 ],
 "metadata": {
  "kernelspec": {
   "display_name": "Python 3 (ipykernel)",
   "language": "python",
   "name": "python3"
  },
  "language_info": {
   "codemirror_mode": {
    "name": "ipython",
    "version": 3
   },
   "file_extension": ".py",
   "mimetype": "text/x-python",
   "name": "python",
   "nbconvert_exporter": "python",
   "pygments_lexer": "ipython3",
   "version": "3.9.16"
  },
  "notebook_module": {
   "alias": "notebook_module",
   "code": "",
   "compatibility": false
  }
 },
 "nbformat": 4,
 "nbformat_minor": 5
}
