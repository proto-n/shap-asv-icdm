{
 "cells": [
  {
   "cell_type": "code",
   "execution_count": 1,
   "id": "ce3bdc59",
   "metadata": {},
   "outputs": [],
   "source": [
    "%load_ext autoreload\n",
    "%autoreload 2"
   ]
  },
  {
   "cell_type": "code",
   "execution_count": 2,
   "id": "4323d0a0",
   "metadata": {},
   "outputs": [],
   "source": [
    "%matplotlib inline\n",
    "import pandas as pd\n",
    "import numpy as np\n",
    "import matplotlib\n",
    "import matplotlib.pyplot as plt\n",
    "import itertools\n",
    "from tqdm.auto import tqdm"
   ]
  },
  {
   "cell_type": "code",
   "execution_count": 3,
   "id": "370f4510",
   "metadata": {},
   "outputs": [],
   "source": [
    "import data\n",
    "import utils"
   ]
  },
  {
   "cell_type": "code",
   "execution_count": 4,
   "id": "a0344f63",
   "metadata": {},
   "outputs": [],
   "source": [
    "reader = data.CacuData('data/UCI/archive.ics.uci.edu/ml/machine-learning-databases')"
   ]
  },
  {
   "cell_type": "code",
   "execution_count": 5,
   "id": "4716f137",
   "metadata": {},
   "outputs": [],
   "source": [
    "cols = reader.cols\n",
    "ncols = len(cols)\n",
    "colcomb = list(itertools.combinations(cols, 2))"
   ]
  },
  {
   "cell_type": "code",
   "execution_count": 6,
   "id": "ff5bcb05",
   "metadata": {},
   "outputs": [],
   "source": [
    "!mkdir -p models_clean_group\n",
    "trainer = utils.Trainer(\n",
    "    cache_dir='models_clean',\n",
    "    default_params={\n",
    "        'objective': 'regression',\n",
    "        'metric': 'mse',\n",
    "        'boosting': 'gbdt',\n",
    "        'num_leaves': 31,\n",
    "        'learning_rate': 0.05,\n",
    "        'verbose': -1,\n",
    "        'device': 'cpu',\n",
    "        'lambda_l2': 0.003,\n",
    "        'early_stopping_round': 10,\n",
    "        'num_boost_round': 100,\n",
    "    },\n",
    "    nocache_params={\n",
    "        'num_threads': 20,\n",
    "    }\n",
    ")"
   ]
  },
  {
   "cell_type": "code",
   "execution_count": 7,
   "id": "98506332",
   "metadata": {},
   "outputs": [],
   "source": [
    "target = 'ViolentCrimesPerPop'\n",
    "evaluator = utils.Evaluator(reader, target)"
   ]
  },
  {
   "cell_type": "code",
   "execution_count": 8,
   "id": "e6212ea0",
   "metadata": {},
   "outputs": [
    {
     "data": {
      "application/vnd.jupyter.widget-view+json": {
       "model_id": "ecb3f275dd24421d96388494234d3a2e",
       "version_major": 2,
       "version_minor": 0
      },
      "text/plain": [
       "  0%|          | 0/13 [00:00<?, ?it/s]"
      ]
     },
     "metadata": {},
     "output_type": "display_data"
    }
   ],
   "source": [
    "group_mse = {}\n",
    "for k,g in tqdm(reader.groups.items()):\n",
    "    trainData = utils.TrainingData(reader, target, columns=g)\n",
    "    booster = trainer.train_model(trainData)\n",
    "    new_mse = evaluator.get_model_mse(booster)\n",
    "    group_mse[k] = new_mse"
   ]
  },
  {
   "cell_type": "code",
   "execution_count": 9,
   "id": "5269716c",
   "metadata": {},
   "outputs": [],
   "source": [
    "groups = list(reader.groups.keys())\n",
    "group_combs = list(itertools.combinations(groups, 2))\n",
    "ngroups = len(reader.groups)"
   ]
  },
  {
   "cell_type": "code",
   "execution_count": 10,
   "id": "2ffce2ef",
   "metadata": {},
   "outputs": [
    {
     "data": {
      "application/vnd.jupyter.widget-view+json": {
       "model_id": "e293fed293154c3fa3e2e6d0b8e853f5",
       "version_major": 2,
       "version_minor": 0
      },
      "text/plain": [
       "  0%|          | 0/78 [00:00<?, ?it/s]"
      ]
     },
     "metadata": {},
     "output_type": "display_data"
    }
   ],
   "source": [
    "group2_mse_e = {}\n",
    "for k1, k2 in tqdm(group_combs):\n",
    "    trainData = utils.TrainingData(reader, target, columns=reader.groups[k1] + reader.groups[k2])\n",
    "    booster = trainer.train_model(trainData)\n",
    "    new_mse = evaluator.get_model_mse(booster)\n",
    "    group2_mse_e[(k1, k2)] = new_mse"
   ]
  },
  {
   "cell_type": "code",
   "execution_count": 11,
   "id": "4afa50f5",
   "metadata": {},
   "outputs": [
    {
     "data": {
      "application/vnd.jupyter.widget-view+json": {
       "model_id": "ff419607fb2e43329d89ce9949215223",
       "version_major": 2,
       "version_minor": 0
      },
      "text/plain": [
       "  0%|          | 0/78 [00:00<?, ?it/s]"
      ]
     },
     "metadata": {},
     "output_type": "display_data"
    }
   ],
   "source": [
    "group2_mse_er = {}\n",
    "for k1, k2 in tqdm(group_combs):\n",
    "    trainData = utils.TrainingData(reader, target, columns=reader.groups[k1] + reader.groups[k2])\n",
    "    k1size = len(reader.groups[k1])\n",
    "    k2size = len(reader.groups[k2])\n",
    "    booster = trainer.train_model(trainData, override_params={\n",
    "        'interaction_constraints': [list(range(k1size)),list(range(k1size, k1size+k2size))],\n",
    "    })\n",
    "    new_mse = evaluator.get_model_mse(booster)\n",
    "    group2_mse_er[(k1, k2)] = new_mse"
   ]
  },
  {
   "cell_type": "code",
   "execution_count": 12,
   "id": "73e7ad0a",
   "metadata": {},
   "outputs": [],
   "source": [
    "import data\n",
    "import utils"
   ]
  },
  {
   "cell_type": "code",
   "execution_count": 13,
   "id": "5e315f17",
   "metadata": {},
   "outputs": [],
   "source": [
    "target = 'ViolentCrimesPerPop'\n",
    "evaluator = utils.Evaluator(reader, target)"
   ]
  },
  {
   "cell_type": "markdown",
   "id": "6a439afc",
   "metadata": {},
   "source": [
    "# Group-pair interactions"
   ]
  },
  {
   "cell_type": "code",
   "execution_count": 14,
   "id": "40f9c2ca",
   "metadata": {
    "scrolled": true
   },
   "outputs": [],
   "source": [
    "L_XY = evaluator.base_mse-evaluator.get_feature_matrix(groups, group2_mse_e)\n",
    "LR_XY = evaluator.base_mse-evaluator.get_feature_matrix(groups, group2_mse_er)"
   ]
  },
  {
   "cell_type": "code",
   "execution_count": 15,
   "id": "ce97657b",
   "metadata": {},
   "outputs": [],
   "source": [
    "L_X = evaluator.base_mse-evaluator.get_feature_vector(groups, group_mse)"
   ]
  },
  {
   "cell_type": "code",
   "execution_count": 16,
   "id": "3d9adc22",
   "metadata": {},
   "outputs": [],
   "source": [
    "W_XY = (L_XY - L_X.reshape(-1,1) - L_X.reshape(1,-1))*(1-np.eye(L_X.shape[0]))\n",
    "WR_XY = (LR_XY - L_X.reshape(-1,1) - L_X.reshape(1,-1))*(1-np.eye(L_X.shape[0]))"
   ]
  },
  {
   "cell_type": "code",
   "execution_count": 17,
   "id": "8799a496",
   "metadata": {},
   "outputs": [],
   "source": [
    "W_values = W_XY[np.where(~np.eye(L_X.shape[0], dtype=bool))].reshape(-1)/evaluator.base_mse\n",
    "WR_values = WR_XY[np.where(~np.eye(L_X.shape[0], dtype=bool))].reshape(-1)/evaluator.base_mse"
   ]
  },
  {
   "cell_type": "code",
   "execution_count": 18,
   "id": "be3ee3f5",
   "metadata": {},
   "outputs": [
    {
     "data": {
      "text/plain": [
       "-0.17694164649216582"
      ]
     },
     "execution_count": 18,
     "metadata": {},
     "output_type": "execute_result"
    }
   ],
   "source": [
    "W_values.mean()"
   ]
  },
  {
   "cell_type": "code",
   "execution_count": 19,
   "id": "1ccc1686",
   "metadata": {},
   "outputs": [
    {
     "data": {
      "text/plain": [
       "-0.19329227505387564"
      ]
     },
     "execution_count": 19,
     "metadata": {},
     "output_type": "execute_result"
    }
   ],
   "source": [
    "WR_values.mean()"
   ]
  },
  {
   "cell_type": "code",
   "execution_count": 20,
   "id": "8bbbc7fb",
   "metadata": {},
   "outputs": [
    {
     "data": {
      "image/png": "[encoded data removed]",
      "text/plain": [
       "<Figure size 600x200 with 1 Axes>"
      ]
     },
     "metadata": {},
     "output_type": "display_data"
    }
   ],
   "source": [
    "W_hist, bins = np.histogram(np.concatenate([W_values, WR_values]), bins=7)\n",
    "plt.figure(figsize=(6, 2))\n",
    "plt.hist([W_values, WR_values], bins=10, label=['unrestricted', 'GAM']);\n",
    "#plt.title('Distribution of $W$ and $W^r$ values (semantic group pairs)')\n",
    "plt.xlabel('fraction of variance')\n",
    "plt.axvline(x = 0, color = 'k',lw=0.5, linestyle=(0,(5,5)))\n",
    "plt.legend(loc=\"upper left\");\n",
    "#plt.xlim(-0.6, 0.1)\n",
    "plt.tight_layout()\n",
    "plt.savefig('output/group_w_w_dist.pdf')\n",
    "plt.savefig('output/group_w_w_dist.png')\n",
    "\n",
    "\n",
    "plt.show()"
   ]
  },
  {
   "cell_type": "code",
   "execution_count": 21,
   "id": "c5ad1dd7",
   "metadata": {},
   "outputs": [
    {
     "data": {
      "image/png": "[encoded data removed]",
      "text/plain": [
       "<Figure size 500x250 with 1 Axes>"
      ]
     },
     "metadata": {},
     "output_type": "display_data"
    }
   ],
   "source": [
    "W_hist, bins = np.histogram(np.concatenate([W_values, WR_values]), bins=7)\n",
    "plt.figure(figsize=(5, 2.5))\n",
    "plt.hist([W_values-WR_values], bins=10, label=['original', 'restricted']);\n",
    "plt.title('Distribution of $W-W^r$ values (semantic group pairs)')\n",
    "plt.xlabel('fraction of original variance of $T$')\n",
    "plt.axvline(x = 0, color = 'k',lw=0.5, linestyle=(0,(5,5)))\n",
    "#plt.legend(loc=\"upper left\");\n",
    "#plt.xlim(-0.6, 0.1)\n",
    "plt.tight_layout()\n",
    "plt.savefig('output/group_w_minus_w_dist.pdf')\n",
    "plt.savefig('output/group_w_minus_w_dist.png')\n",
    "plt.show()"
   ]
  },
  {
   "cell_type": "code",
   "execution_count": 22,
   "id": "4eece7ab",
   "metadata": {},
   "outputs": [
    {
     "data": {
      "image/png": "[encoded data removed]",
      "text/plain": [
       "<Figure size 500x250 with 3 Axes>"
      ]
     },
     "metadata": {},
     "output_type": "display_data"
    }
   ],
   "source": [
    "fig, axes = plt.subplots(ncols=2, figsize=(5, 2.5))\n",
    "ax1, ax2 = axes\n",
    "\n",
    "im1 = ax1.matshow(W_XY/evaluator.base_mse)\n",
    "ax1.set_title('$W(X,Y)$')\n",
    "im2 = ax2.matshow(WR_XY/evaluator.base_mse, vmin=W_XY.min()/evaluator.base_mse, vmax=W_XY.max()/evaluator.base_mse)\n",
    "ax2.set_title('$W^r(X,Y)$')\n",
    "plt.subplots_adjust(hspace=0, wspace=0, left=0, right=1)\n",
    "fig.colorbar(im1, ax=ax2);\n",
    "plt.tight_layout()\n",
    "plt.savefig('output/group_w_w_heatmap.pdf')\n",
    "plt.savefig('output/group_w_w_heatmap.png')"
   ]
  },
  {
   "cell_type": "code",
   "execution_count": 23,
   "id": "681d5d66",
   "metadata": {},
   "outputs": [
    {
     "data": {
      "image/png": "[encoded data removed]",
      "text/plain": [
       "<Figure size 400x300 with 2 Axes>"
      ]
     },
     "metadata": {},
     "output_type": "display_data"
    }
   ],
   "source": [
    "plt.figure(figsize=(4,3))\n",
    "cax = plt.gca().matshow((W_XY-WR_XY)/evaluator.base_mse)\n",
    "plt.colorbar(cax);\n",
    "plt.savefig('output/group_w_w_heatmap.pdf');\n",
    "plt.savefig('output/group_w_w_heatmap.png');"
   ]
  },
  {
   "cell_type": "code",
   "execution_count": 24,
   "id": "eeb5a20f",
   "metadata": {},
   "outputs": [],
   "source": [
    "MSE_diff = (evaluator.get_feature_matrix(groups, group2_mse_er) - evaluator.get_feature_matrix(groups, group2_mse_e))/evaluator.base_mse"
   ]
  },
  {
   "cell_type": "code",
   "execution_count": 25,
   "id": "7f0caac5",
   "metadata": {},
   "outputs": [
    {
     "data": {
      "text/plain": [
       "0.01509288790311674"
      ]
     },
     "execution_count": 25,
     "metadata": {},
     "output_type": "execute_result"
    }
   ],
   "source": [
    "MSE_diff.mean()"
   ]
  },
  {
   "cell_type": "code",
   "execution_count": 26,
   "id": "680ab7c6",
   "metadata": {},
   "outputs": [
    {
     "data": {
      "image/png": "[encoded data removed]",
      "text/plain": [
       "<Figure size 500x250 with 1 Axes>"
      ]
     },
     "metadata": {},
     "output_type": "display_data"
    }
   ],
   "source": [
    "plt.figure(figsize=(5, 2.5))\n",
    "plt.title('MSE difference between original and restricted model')\n",
    "plt.hist(MSE_diff.reshape(-1), bins=10);\n",
    "plt.axvline(x = 0, color = 'k', lw=0.5, linestyle=(0,(5,5)))\n",
    "plt.xlabel('fraction of original variance of $T$')\n",
    "plt.tight_layout()\n",
    "plt.xlim(-0.12, 0.17)\n",
    "plt.savefig('output/group_mse_diff.pdf')\n",
    "plt.savefig('output/group_mse_diff.png')"
   ]
  },
  {
   "cell_type": "markdown",
   "id": "36002814",
   "metadata": {},
   "source": [
    "# Groups latex / markdowntable"
   ]
  },
  {
   "cell_type": "code",
   "execution_count": 27,
   "id": "5882d5a9",
   "metadata": {},
   "outputs": [],
   "source": [
    "printable_keys = [\"/\".join([s.capitalize() for s in k.split(\"x\")]) for k in reader.groups.keys()]"
   ]
  },
  {
   "cell_type": "code",
   "execution_count": 28,
   "id": "dbda1652",
   "metadata": {},
   "outputs": [
    {
     "data": {
      "text/plain": [
       "0.07692307692307693"
      ]
     },
     "execution_count": 28,
     "metadata": {},
     "output_type": "execute_result"
    }
   ],
   "source": [
    "1/len(reader.groups)"
   ]
  },
  {
   "cell_type": "code",
   "execution_count": 29,
   "id": "80276127",
   "metadata": {},
   "outputs": [
    {
     "name": "stdout",
     "output_type": "stream",
     "text": [
      "\\midrule\n",
      "Race&\\mbox{racepctblack}, \\mbox{racePctWhite}, \\mbox{racePctAsian}, \\mbox{racePctHisp}\\\\\n",
      "\\midrule\n",
      "Age&\\mbox{agePct12t21}, \\mbox{agePct12t29}, \\mbox{agePct16t24}, \\mbox{agePct65up}\\\\\n",
      "\\midrule\n",
      "Income&\\mbox{medIncome}, \\mbox{pctWWage}, \\mbox{pctWFarmSelf}, \\mbox{pctWInvInc}, \\mbox{pctWSocSec}, \\mbox{pctWPubAsst}, \\mbox{pctWRetire}, \\mbox{medFamInc}, \\mbox{perCapInc}, \\mbox{NumUnderPov}, \\mbox{PctPopUnderPov}\\\\\n",
      "\\midrule\n",
      "Race/Income&\\mbox{whitePerCap}, \\mbox{blackPerCap}, \\mbox{indianPerCap}, \\mbox{AsianPerCap}, \\mbox{OtherPerCap}, \\mbox{HispPerCap}\\\\\n",
      "\\midrule\n",
      "Education&\\mbox{PctLess9thGrade}, \\mbox{PctNotHSGrad}, \\mbox{PctBSorMore}, \\mbox{PctUnemployed}, \\mbox{PctEmploy}, \\mbox{PctEmplManu}, \\mbox{PctEmplProfServ}, \\mbox{PctOccupManu}, \\mbox{PctOccupMgmtProf}\\\\\n",
      "\\midrule\n",
      "Family&\\mbox{MalePctDivorce}, \\mbox{MalePctNevMarr}, \\mbox{FemalePctDiv}, \\mbox{TotalPctDiv}, \\mbox{PersPerFam}, \\mbox{PctFam2Par}, \\mbox{PctKids2Par}, \\mbox{PctYoungKids2Par}, \\mbox{PctTeen2Par}, \\mbox{PctWorkMomYoungKids}, \\mbox{PctWorkMom}, \\mbox{NumKidsBornNeverMar}, \\mbox{PctKidsBornNeverMar}\\\\\n",
      "\\midrule\n",
      "Immigration&\\mbox{PctForeignBorn}, \\mbox{NumImmig}, \\mbox{PctImmigRecent}, \\mbox{PctImmigRec5}, \\mbox{PctImmigRec8}, \\mbox{PctImmigRec10}, \\mbox{PctRecentImmig}, \\mbox{PctRecImmig5}, \\mbox{PctRecImmig8}, \\mbox{PctRecImmig10}, \\mbox{PctSpeakEnglOnly}, \\mbox{PctNotSpeakEnglWell}\\\\\n",
      "\\midrule\n",
      "House&\\mbox{householdsize}, \\mbox{PctLargHouseFam}, \\mbox{PctLargHouseOccup}, \\mbox{PersPerOccupHous}, \\mbox{PersPerOwnOccHous}, \\mbox{PersPerRentOccHous}, \\mbox{PctPersOwnOccup}, \\mbox{PctPersDenseHous}, \\mbox{PctHousLess3BR}, \\mbox{MedNumBR}, \\mbox{HousVacant}, \\mbox{PctHousOccup}, \\mbox{PctHousOwnOcc}, \\mbox{PctVacantBoarded}, \\mbox{PctVacMore6Mos}, \\mbox{MedYrHousBuilt}, \\mbox{PctHousNoPhone}, \\mbox{PctWOFullPlumb}, \\mbox{OwnOccLowQuart}, \\mbox{OwnOccMedVal}, \\mbox{OwnOccHiQuart}, \\mbox{OwnOccQrange}, \\mbox{RentLowQ}, \\mbox{RentMedian}, \\mbox{RentHighQ}, \\mbox{RentQrange}, \\mbox{MedRent}, \\mbox{MedRentPctHousInc}, \\mbox{MedOwnCostPctInc}, \\mbox{MedOwnCostPctIncNoMtg}\\\\\n",
      "\\midrule\n",
      "Homelessness&\\mbox{NumInShelters}, \\mbox{NumStreet}\\\\\n",
      "\\midrule\n",
      "Native&\\mbox{PctBornSameState}, \\mbox{PctSameHouse85}, \\mbox{PctSameCity85}, \\mbox{PctSameState85}\\\\\n",
      "\\midrule\n",
      "Police&\\mbox{LemasSwornFT}, \\mbox{LemasSwFTPerPop}, \\mbox{LemasSwFTFieldOps}, \\mbox{LemasSwFTFieldPerPop}, \\mbox{LemasTotalReq}, \\mbox{LemasTotReqPerPop}, \\mbox{PolicReqPerOffic}, \\mbox{PolicPerPop}\\\\\n",
      "\\midrule\n",
      "Race/Police&\\mbox{RacialMatchCommPol}, \\mbox{PctPolicWhite}, \\mbox{PctPolicBlack}, \\mbox{PctPolicHisp}, \\mbox{PctPolicAsian}, \\mbox{PctPolicMinor}, \\mbox{OfficAssgnDrugUnits}, \\mbox{NumKindsDrugsSeiz}, \\mbox{PolicAveOTWorked}, \\mbox{PolicCars}, \\mbox{PolicOperBudg}, \\mbox{LemasPctPolicOnPatr}, \\mbox{LemasGangUnitDeploy}, \\mbox{LemasPctOfficDrugUn}, \\mbox{PolicBudgPerPop}\\\\\n",
      "\\midrule\n",
      "Land/Pop&\\mbox{population}, \\mbox{numbUrban}, \\mbox{pctUrban}, \\mbox{LandArea}, \\mbox{PopDens}, \\mbox{PctUsePubTrans}\\\\\n"
     ]
    }
   ],
   "source": [
    "for k, pk in zip(reader.groups.keys(), printable_keys):\n",
    "    print(\"\\midrule\")\n",
    "    print(pk, end=\"&\")\n",
    "    print(*[\"\\\\mbox{%s}\"%f for f in reader.groups[k]], sep=\", \", end=\"\\\\\\\\\\n\")"
   ]
  },
  {
   "cell_type": "code",
   "execution_count": 32,
   "id": "05457ff9",
   "metadata": {},
   "outputs": [
    {
     "name": "stdout",
     "output_type": "stream",
     "text": [
      "|Group name|Features\n",
      "|---|---|\n",
      "| Race|racepctblack, racePctWhite, racePctAsian, racePctHisp|\n",
      "| Age|agePct12t21, agePct12t29, agePct16t24, agePct65up|\n",
      "| Income|medIncome, pctWWage, pctWFarmSelf, pctWInvInc, pctWSocSec, pctWPubAsst, pctWRetire, medFamInc, perCapInc, NumUnderPov, PctPopUnderPov|\n",
      "| Race/Income|whitePerCap, blackPerCap, indianPerCap, AsianPerCap, OtherPerCap, HispPerCap|\n",
      "| Education|PctLess9thGrade, PctNotHSGrad, PctBSorMore, PctUnemployed, PctEmploy, PctEmplManu, PctEmplProfServ, PctOccupManu, PctOccupMgmtProf|\n",
      "| Family|MalePctDivorce, MalePctNevMarr, FemalePctDiv, TotalPctDiv, PersPerFam, PctFam2Par, PctKids2Par, PctYoungKids2Par, PctTeen2Par, PctWorkMomYoungKids, PctWorkMom, NumKidsBornNeverMar, PctKidsBornNeverMar|\n",
      "| Immigration|PctForeignBorn, NumImmig, PctImmigRecent, PctImmigRec5, PctImmigRec8, PctImmigRec10, PctRecentImmig, PctRecImmig5, PctRecImmig8, PctRecImmig10, PctSpeakEnglOnly, PctNotSpeakEnglWell|\n",
      "| House|householdsize, PctLargHouseFam, PctLargHouseOccup, PersPerOccupHous, PersPerOwnOccHous, PersPerRentOccHous, PctPersOwnOccup, PctPersDenseHous, PctHousLess3BR, MedNumBR, HousVacant, PctHousOccup, PctHousOwnOcc, PctVacantBoarded, PctVacMore6Mos, MedYrHousBuilt, PctHousNoPhone, PctWOFullPlumb, OwnOccLowQuart, OwnOccMedVal, OwnOccHiQuart, OwnOccQrange, RentLowQ, RentMedian, RentHighQ, RentQrange, MedRent, MedRentPctHousInc, MedOwnCostPctInc, MedOwnCostPctIncNoMtg|\n",
      "| Homelessness|NumInShelters, NumStreet|\n",
      "| Native|PctBornSameState, PctSameHouse85, PctSameCity85, PctSameState85|\n",
      "| Police|LemasSwornFT, LemasSwFTPerPop, LemasSwFTFieldOps, LemasSwFTFieldPerPop, LemasTotalReq, LemasTotReqPerPop, PolicReqPerOffic, PolicPerPop|\n",
      "| Race/Police|RacialMatchCommPol, PctPolicWhite, PctPolicBlack, PctPolicHisp, PctPolicAsian, PctPolicMinor, OfficAssgnDrugUnits, NumKindsDrugsSeiz, PolicAveOTWorked, PolicCars, PolicOperBudg, LemasPctPolicOnPatr, LemasGangUnitDeploy, LemasPctOfficDrugUn, PolicBudgPerPop|\n",
      "| Land/Pop|population, numbUrban, pctUrban, LandArea, PopDens, PctUsePubTrans|\n"
     ]
    }
   ],
   "source": [
    "print(\"|Group name|Features\")\n",
    "print(\"|---|---|\")\n",
    "for k, pk in zip(reader.groups.keys(), printable_keys):\n",
    "    print(\"|\", pk, end=\"|\")\n",
    "    print(*[\"%s\"%f for f in reader.groups[k]], sep=\", \", end=\"|\\n\")"
   ]
  },
  {
   "cell_type": "code",
   "execution_count": null,
   "id": "83e1c03f",
   "metadata": {},
   "outputs": [],
   "source": []
  }
 ],
 "metadata": {
  "kernelspec": {
   "display_name": "Python [conda env:lgbm]",
   "language": "python",
   "name": "conda-env-lgbm-py"
  },
  "language_info": {
   "codemirror_mode": {
    "name": "ipython",
    "version": 3
   },
   "file_extension": ".py",
   "mimetype": "text/x-python",
   "name": "python",
   "nbconvert_exporter": "python",
   "pygments_lexer": "ipython3",
   "version": "3.8.15"
  },
  "notebook_module": {
   "alias": "notebook_module",
   "code": "",
   "compatibility": false
  }
 },
 "nbformat": 4,
 "nbformat_minor": 5
}
