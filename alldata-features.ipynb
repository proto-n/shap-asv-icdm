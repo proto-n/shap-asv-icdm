{
 "cells": [
  {
   "cell_type": "code",
   "execution_count": 1,
   "id": "ec7b353d",
   "metadata": {},
   "outputs": [],
   "source": [
    "%load_ext autoreload\n",
    "%autoreload 2"
   ]
  },
  {
   "cell_type": "code",
   "execution_count": 2,
   "id": "ddac2d61",
   "metadata": {},
   "outputs": [],
   "source": [
    "%matplotlib inline\n",
    "import pandas as pd\n",
    "import numpy as np\n",
    "import matplotlib\n",
    "import matplotlib.pyplot as plt\n",
    "import itertools\n",
    "from tqdm.auto import tqdm"
   ]
  },
  {
   "cell_type": "code",
   "execution_count": 3,
   "id": "713a3072",
   "metadata": {},
   "outputs": [],
   "source": [
    "import data\n",
    "import utils"
   ]
  },
  {
   "cell_type": "code",
   "execution_count": 4,
   "id": "d43462d0",
   "metadata": {},
   "outputs": [],
   "source": [
    "readerTypes = [data.CacuData, data.FccPmData, data.SuperconductivityData, data.GarmentProductivityData]\n",
    "targets = ['ViolentCrimesPerPop', 'PM', 'critical_temp', 'actual_productivity']"
   ]
  },
  {
   "cell_type": "code",
   "execution_count": 5,
   "id": "ee04bdb6",
   "metadata": {},
   "outputs": [
    {
     "name": "stdout",
     "output_type": "stream",
     "text": [
      "---------\n",
      "Dataset: Communities and Crime Unnormalized\n"
     ]
    },
    {
     "data": {
      "application/vnd.jupyter.widget-view+json": {
       "model_id": "4e01122aae69431ba38f35d1ca28d7d4",
       "version_major": 2,
       "version_minor": 0
      },
      "text/plain": [
       "  0%|          | 0/124 [00:00<?, ?it/s]"
      ]
     },
     "metadata": {},
     "output_type": "display_data"
    },
    {
     "data": {
      "application/vnd.jupyter.widget-view+json": {
       "model_id": "345f8d2205674da68faf2a82db196c82",
       "version_major": 2,
       "version_minor": 0
      },
      "text/plain": [
       "  0%|          | 0/7626 [00:00<?, ?it/s]"
      ]
     },
     "metadata": {},
     "output_type": "display_data"
    },
    {
     "data": {
      "application/vnd.jupyter.widget-view+json": {
       "model_id": "eba4a058b9e14a0bb3666bda2258cac2",
       "version_major": 2,
       "version_minor": 0
      },
      "text/plain": [
       "  0%|          | 0/7626 [00:00<?, ?it/s]"
      ]
     },
     "metadata": {},
     "output_type": "display_data"
    },
    {
     "name": "stdout",
     "output_type": "stream",
     "text": [
      "---------\n",
      "Dataset: PM2.5 Data of Five Chinese Cities\n"
     ]
    },
    {
     "data": {
      "application/vnd.jupyter.widget-view+json": {
       "model_id": "5ee4b04d2ac847429e9d98f1786e6812",
       "version_major": 2,
       "version_minor": 0
      },
      "text/plain": [
       "  0%|          | 0/10 [00:00<?, ?it/s]"
      ]
     },
     "metadata": {},
     "output_type": "display_data"
    },
    {
     "data": {
      "application/vnd.jupyter.widget-view+json": {
       "model_id": "657ac06bc8c34a9a9756989986214046",
       "version_major": 2,
       "version_minor": 0
      },
      "text/plain": [
       "  0%|          | 0/45 [00:00<?, ?it/s]"
      ]
     },
     "metadata": {},
     "output_type": "display_data"
    },
    {
     "data": {
      "application/vnd.jupyter.widget-view+json": {
       "model_id": "c4565462c38b4dc5b94f157511784cbb",
       "version_major": 2,
       "version_minor": 0
      },
      "text/plain": [
       "  0%|          | 0/45 [00:00<?, ?it/s]"
      ]
     },
     "metadata": {},
     "output_type": "display_data"
    },
    {
     "name": "stdout",
     "output_type": "stream",
     "text": [
      "---------\n",
      "Dataset: Superconductivity\n"
     ]
    },
    {
     "data": {
      "application/vnd.jupyter.widget-view+json": {
       "model_id": "3a2120849b0b49fa993e6cb8402c845c",
       "version_major": 2,
       "version_minor": 0
      },
      "text/plain": [
       "  0%|          | 0/81 [00:00<?, ?it/s]"
      ]
     },
     "metadata": {},
     "output_type": "display_data"
    },
    {
     "data": {
      "application/vnd.jupyter.widget-view+json": {
       "model_id": "5cb062aaa1a343239bb98509fd3dea59",
       "version_major": 2,
       "version_minor": 0
      },
      "text/plain": [
       "  0%|          | 0/3240 [00:00<?, ?it/s]"
      ]
     },
     "metadata": {},
     "output_type": "display_data"
    },
    {
     "data": {
      "application/vnd.jupyter.widget-view+json": {
       "model_id": "de3806af71cd41bbbeffe2f64163f86b",
       "version_major": 2,
       "version_minor": 0
      },
      "text/plain": [
       "  0%|          | 0/3240 [00:00<?, ?it/s]"
      ]
     },
     "metadata": {},
     "output_type": "display_data"
    },
    {
     "name": "stdout",
     "output_type": "stream",
     "text": [
      "---------\n",
      "Dataset: Productivity Prediction of Garment Employees\n"
     ]
    },
    {
     "data": {
      "application/vnd.jupyter.widget-view+json": {
       "model_id": "f11db9e049fc46ada298e2112b14c075",
       "version_major": 2,
       "version_minor": 0
      },
      "text/plain": [
       "  0%|          | 0/14 [00:00<?, ?it/s]"
      ]
     },
     "metadata": {},
     "output_type": "display_data"
    },
    {
     "data": {
      "application/vnd.jupyter.widget-view+json": {
       "model_id": "4e4956741e0442a580c9dac9cd1139b4",
       "version_major": 2,
       "version_minor": 0
      },
      "text/plain": [
       "  0%|          | 0/91 [00:00<?, ?it/s]"
      ]
     },
     "metadata": {},
     "output_type": "display_data"
    },
    {
     "data": {
      "application/vnd.jupyter.widget-view+json": {
       "model_id": "5c8919f82d3240a58471bf8b71c76cbc",
       "version_major": 2,
       "version_minor": 0
      },
      "text/plain": [
       "  0%|          | 0/91 [00:00<?, ?it/s]"
      ]
     },
     "metadata": {},
     "output_type": "display_data"
    }
   ],
   "source": [
    "mse_collector = {}\n",
    "\n",
    "for ReaderType, target in zip(readerTypes, targets):\n",
    "    reader = ReaderType('data/UCI/archive.ics.uci.edu/ml/machine-learning-databases')\n",
    "    reader.readAndCache()\n",
    "    print(\"---------\")\n",
    "    print(\"Dataset:\", reader.name)\n",
    "    cols = reader.cols\n",
    "    ncols = len(cols)\n",
    "    colcomb = list(itertools.combinations(cols, 2))\n",
    "    colcomb_lim = [(a,b) for a,b in np.random.permutation(colcomb)]\n",
    "    \n",
    "    trainer = utils.Trainer(\n",
    "        cache_dir='models_clean',\n",
    "        default_params={\n",
    "            'objective': 'regression',\n",
    "            'metric': 'mse',\n",
    "            'boosting': 'gbdt',\n",
    "            'num_leaves': 31,\n",
    "            'learning_rate': 0.05,\n",
    "            'verbose': -1,\n",
    "            'device': 'cpu',\n",
    "            'lambda_l2': 0.003,\n",
    "            'early_stopping_round': 10,\n",
    "            'num_boost_round': 100,\n",
    "        },\n",
    "        nocache_params={\n",
    "            'num_threads': 20,\n",
    "        }\n",
    "    )\n",
    "    evaluator = utils.Evaluator(reader, target)\n",
    "    \n",
    "    data_mse = {}\n",
    "    \n",
    "    col_mse = {}\n",
    "    for c in tqdm(cols):\n",
    "        trainData = utils.TrainingData(reader, target, columns=[c])\n",
    "        booster = trainer.train_model(trainData)\n",
    "        new_mse = evaluator.get_model_mse(booster)\n",
    "        col_mse[c] = new_mse\n",
    "\n",
    "    col2_mse_e = {}\n",
    "    for columns in tqdm(colcomb_lim):\n",
    "        trainData = utils.TrainingData(reader, target, columns=list(columns))\n",
    "        booster = trainer.train_model(trainData)\n",
    "        new_mse = evaluator.get_model_mse(booster)\n",
    "        col2_mse_e[columns] = new_mse\n",
    "        \n",
    "    col2_mse_er = {}\n",
    "    for columns in tqdm(colcomb_lim):\n",
    "        trainData = utils.TrainingData(reader, target, columns=list(columns))\n",
    "        booster = trainer.train_model(trainData, override_params={\n",
    "            'interaction_constraints': [[0],[1]],\n",
    "        })\n",
    "        new_mse = evaluator.get_model_mse(booster)\n",
    "        col2_mse_er[columns] = new_mse\n",
    "        \n",
    "    mse_collector[reader.name] = {\n",
    "        'col_mse': col_mse,\n",
    "        'col2_mse_e': col2_mse_e,\n",
    "        'col2_mse_er': col2_mse_er,\n",
    "        'base_mse': evaluator.base_mse,\n",
    "        'nsamples': len(colcomb_lim)\n",
    "    }"
   ]
  },
  {
   "cell_type": "code",
   "execution_count": 6,
   "id": "c0dc29d5",
   "metadata": {},
   "outputs": [],
   "source": [
    "W_collector = {}\n",
    "for dataset, mse_dict in mse_collector.items():\n",
    "    W_list = []\n",
    "    WR_list = []\n",
    "    for col1, col2 in mse_dict['col2_mse_e'].keys():\n",
    "        l_xy = mse_dict['base_mse'] - mse_dict['col2_mse_e'][(col1, col2)]\n",
    "        lr_xy = mse_dict['base_mse'] - mse_dict['col2_mse_er'][(col1, col2)]\n",
    "        l_x = mse_dict['base_mse'] - mse_dict['col_mse'][col1]\n",
    "        l_y = mse_dict['base_mse'] - mse_dict['col_mse'][col2]\n",
    "        w = (l_xy - l_x - l_y)\n",
    "        wr = (lr_xy - l_x - l_y)\n",
    "        W_list.append(w)\n",
    "        WR_list.append(wr)\n",
    "    W_collector[dataset] = {\n",
    "        'W_list': np.array(W_list)/mse_dict['base_mse'],\n",
    "        'WR_list': np.array(WR_list)/mse_dict['base_mse'],\n",
    "        'nsamples': mse_dict['nsamples']\n",
    "    }"
   ]
  },
  {
   "cell_type": "code",
   "execution_count": 7,
   "id": "12c5c0a6",
   "metadata": {},
   "outputs": [],
   "source": [
    "short_titles = {\n",
    "    'Communities and Crime Unnormalized': 'CaCU',\n",
    "    'PM2.5 Data of Five Chinese Cities': 'PM2.5',\n",
    "    'Superconductivity': 'Superconductivity',\n",
    "    'Productivity Prediction of Garment Employees': 'Garment',\n",
    "}"
   ]
  },
  {
   "cell_type": "code",
   "execution_count": 8,
   "id": "3518943e",
   "metadata": {},
   "outputs": [
    {
     "data": {
      "text/plain": [
       "0.08796055845651"
      ]
     },
     "execution_count": 8,
     "metadata": {},
     "output_type": "execute_result"
    }
   ],
   "source": [
    "W_collector[dataset]['WR_list'].max()"
   ]
  },
  {
   "cell_type": "code",
   "execution_count": 9,
   "id": "450f7c67",
   "metadata": {},
   "outputs": [
    {
     "name": "stdout",
     "output_type": "stream",
     "text": [
      "Communities and Crime Unnormalized -0.03870440802205259 -0.05055253375841283\n",
      "PM2.5 Data of Five Chinese Cities 0.014941981793618749 0.007387763351374015\n",
      "Superconductivity -0.27920484995517597 -0.35520391626539155\n",
      "Productivity Prediction of Garment Employees 0.006938077492829442 -0.0056575238492362415\n"
     ]
    },
    {
     "data": {
      "image/png": "[encoded data removed]",
      "text/plain": [
       "<Figure size 1300x200 with 4 Axes>"
      ]
     },
     "metadata": {},
     "output_type": "display_data"
    }
   ],
   "source": [
    "ylims = [1500, None, None, None]\n",
    "bins = [40, 20, 20, 20]\n",
    "xlim = [(-0.3,0.15), None, None, None]\n",
    "fig=plt.figure(figsize=(13,2))\n",
    "for i, dataset in enumerate(W_collector):\n",
    "    print(dataset, W_collector[dataset]['W_list'].mean(), W_collector[dataset]['WR_list'].mean())\n",
    "    plt.subplot(1, 4, i+1)\n",
    "    plt.title(short_titles[dataset]+\" (n=%d)\"%W_collector[dataset]['nsamples'])\n",
    "    plt.hist([W_collector[dataset]['W_list'], W_collector[dataset]['WR_list']], bins=bins[i], label=['unrestricted', 'GAM'])\n",
    "    plt.xlabel('fraction of variance')\n",
    "    plt.axvline(x = 0, color = 'k', lw=0.5, linestyle=(0,(5,5)))\n",
    "    plt.ylim(0, ylims[i])\n",
    "    if xlim[i]:\n",
    "        plt.xlim(*xlim[i])\n",
    "    plt.tight_layout()\n",
    "    if(i==3):\n",
    "        plt.legend()\n",
    "#fig.suptitle('Distribution of $W$ and $W^r$ values between pairs of features')\n",
    "plt.tight_layout()\n",
    "plt.savefig('output/alldata_w_dist.pdf')\n",
    "plt.savefig('output/alldata_w_dist.png')"
   ]
  },
  {
   "cell_type": "markdown",
   "id": "59842e37",
   "metadata": {},
   "source": [
    "# Covariances"
   ]
  },
  {
   "cell_type": "code",
   "execution_count": 10,
   "id": "bb491cd7",
   "metadata": {},
   "outputs": [
    {
     "data": {
      "text/plain": [
       "['Communities and Crime Unnormalized',\n",
       " 'PM2.5 Data of Five Chinese Cities',\n",
       " 'Superconductivity',\n",
       " 'Productivity Prediction of Garment Employees']"
      ]
     },
     "execution_count": 10,
     "metadata": {},
     "output_type": "execute_result"
    }
   ],
   "source": [
    "list(mse_collector.keys())"
   ]
  },
  {
   "cell_type": "code",
   "execution_count": 11,
   "id": "36e8bede",
   "metadata": {},
   "outputs": [],
   "source": [
    "mse_dict = mse_collector['PM2.5 Data of Five Chinese Cities']\n",
    "neg_pairs_pm = []\n",
    "for col1, col2 in mse_dict['col2_mse_e'].keys():\n",
    "    lr_xy = mse_dict['base_mse'] - mse_dict['col2_mse_er'][(col1, col2)]\n",
    "    l_x = mse_dict['base_mse'] - mse_dict['col_mse'][col1]\n",
    "    l_y = mse_dict['base_mse'] - mse_dict['col_mse'][col2]\n",
    "    wr = (lr_xy - l_x - l_y)\n",
    "    if wr/mse_dict['base_mse'] >= 0.01:\n",
    "        neg_pairs_pm.append((col1, col2, wr, mse_dict['base_mse']))"
   ]
  },
  {
   "cell_type": "code",
   "execution_count": 12,
   "id": "31e4250e",
   "metadata": {},
   "outputs": [
    {
     "name": "stdout",
     "output_type": "stream",
     "text": [
      "0.0033209277742301735 0.014713690446684457\n",
      "-0.006099305570056018 0.01248752884099524\n",
      "-0.007474329820906446 0.02707056557380786\n",
      "0.004679972646380751 0.04526503834597302\n",
      "0.007534640019867239 0.04850737792560036\n",
      "0.0034988615401515735 0.04745506900786973\n",
      "0.0033874425838325275 0.015670220701417773\n",
      "-0.011632510953979493 0.025081821218096885\n",
      "0.004763180855915268 0.043076301495409995\n",
      "-0.0004902929960906632 0.04515490391551901\n"
     ]
    }
   ],
   "source": [
    "reader = data.FccPmData('data/UCI/archive.ics.uci.edu/ml/machine-learning-databases')\n",
    "target = 'PM'\n",
    "datapoints1 = []\n",
    "for col1,col2,wr,base_mse in neg_pairs_pm:\n",
    "    trainData = utils.TrainingData(reader, target, columns=[col1,col2])\n",
    "    booster = trainer.train_model(trainData, override_params={\n",
    "        'interaction_constraints': [[0],[1]],\n",
    "    })\n",
    "    covmat = utils.get_group_cov(booster, reader.test, [[0],[1]])\n",
    "    print(covmat[0,1]/base_mse, wr/base_mse)\n",
    "    datapoints1.append((covmat[0,1], wr/base_mse))"
   ]
  },
  {
   "cell_type": "code",
   "execution_count": 13,
   "id": "76e90f45",
   "metadata": {},
   "outputs": [],
   "source": [
    "mse_dict = mse_collector['Productivity Prediction of Garment Employees']\n",
    "neg_pairs_garment = []\n",
    "for col1, col2 in mse_dict['col2_mse_e'].keys():\n",
    "    lr_xy = mse_dict['base_mse'] - mse_dict['col2_mse_er'][(col1, col2)]\n",
    "    l_x = mse_dict['base_mse'] - mse_dict['col_mse'][col1]\n",
    "    l_y = mse_dict['base_mse'] - mse_dict['col_mse'][col2]\n",
    "    wr = (lr_xy - l_x - l_y)\n",
    "    if wr/mse_dict['base_mse'] >= 0.03:\n",
    "        neg_pairs_garment.append((col1, col2, wr, mse_dict['base_mse']))"
   ]
  },
  {
   "cell_type": "code",
   "execution_count": 14,
   "id": "293d323f",
   "metadata": {},
   "outputs": [
    {
     "name": "stdout",
     "output_type": "stream",
     "text": [
      "-0.009187419456654604 0.0549669335924338\n",
      "-0.007300577160517996 0.06664500764730955\n",
      "-0.0002692198018009847 0.05070142766815486\n",
      "-0.018788525059132172 0.08796055845651\n"
     ]
    }
   ],
   "source": [
    "reader = data.GarmentProductivityData('data/UCI/archive.ics.uci.edu/ml/machine-learning-databases')\n",
    "target = 'actual_productivity'\n",
    "datapoints2 = []\n",
    "for col1,col2,wr,base_mse in neg_pairs_garment:\n",
    "    trainData = utils.TrainingData(reader, target, columns=[col1,col2])\n",
    "    booster = trainer.train_model(trainData, override_params={\n",
    "        'interaction_constraints': [[0],[1]],\n",
    "    })\n",
    "    covmat = utils.get_group_cov(booster, reader.test, [[0],[1]])\n",
    "    print(covmat[0,1]/base_mse, wr/base_mse)\n",
    "    datapoints2.append((covmat[0,1], wr/base_mse))"
   ]
  },
  {
   "cell_type": "code",
   "execution_count": 15,
   "id": "e4ecea15",
   "metadata": {},
   "outputs": [
    {
     "data": {
      "image/png": "[encoded data removed]",
      "text/plain": [
       "<Figure size 800x300 with 1 Axes>"
      ]
     },
     "metadata": {},
     "output_type": "display_data"
    }
   ],
   "source": [
    "plt.figure(figsize=(8,3))\n",
    "plt.title('Measuring the covariance in the case of positive $W^r$ interactions')\n",
    "plt.scatter(*np.array(datapoints1).T, label=\"PPM2.5 Data of Five Chinese Cities\")\n",
    "plt.scatter(*np.array(datapoints2).T, label=\"Productivity Prediction of Garment Employees\")\n",
    "plt.xlabel('Covariance normalized by variance of target')\n",
    "plt.ylabel('$W^r$')\n",
    "plt.legend()\n",
    "plt.tight_layout()\n",
    "plt.savefig('output/cov_vs_wr_pm_garment.pdf')\n",
    "plt.savefig('output/cov_vs_wr_pm_garment.png')"
   ]
  },
  {
   "cell_type": "code",
   "execution_count": 16,
   "id": "63ab1393",
   "metadata": {},
   "outputs": [
    {
     "data": {
      "image/png": "[encoded data removed]",
      "text/plain": [
       "<Figure size 750x300 with 1 Axes>"
      ]
     },
     "metadata": {},
     "output_type": "display_data"
    }
   ],
   "source": [
    "plt.figure(figsize=(7.5,3))\n",
    "#plt.title('Measuring the covariance in the case of positive $W^r$ interactions')\n",
    "plt.scatter(*np.array(datapoints1).T[::-1], label='original $W^r$')\n",
    "plt.xlabel('$W^r$')\n",
    "plt.ylabel('Covariance normalized by variance of target')\n",
    "plt.axvline(x = 0, color = 'k', lw=0.5, linestyle=(0,(5,5)))\n",
    "plt.axhline(y = 0, color = 'k', lw=0.5, linestyle=(0,(5,5)))\n",
    "plt.legend()\n",
    "plt.tight_layout()\n",
    "plt.savefig('output/cov_vs_wr_orig.pdf')\n",
    "plt.savefig('output/cov_vs_wr_orig.png')"
   ]
  },
  {
   "cell_type": "code",
   "execution_count": 17,
   "id": "fbb63c85",
   "metadata": {},
   "outputs": [
    {
     "name": "stdout",
     "output_type": "stream",
     "text": [
      "---------\n",
      "Dataset: PM2.5 Data of Five Chinese Cities\n"
     ]
    },
    {
     "data": {
      "application/vnd.jupyter.widget-view+json": {
       "model_id": "28c17c923b764ed4a09aa7d589813671",
       "version_major": 2,
       "version_minor": 0
      },
      "text/plain": [
       "  0%|          | 0/10 [00:00<?, ?it/s]"
      ]
     },
     "metadata": {},
     "output_type": "display_data"
    },
    {
     "data": {
      "application/vnd.jupyter.widget-view+json": {
       "model_id": "f6bc04e2a4ca47f7a56f044905ed39df",
       "version_major": 2,
       "version_minor": 0
      },
      "text/plain": [
       "  0%|          | 0/45 [00:00<?, ?it/s]"
      ]
     },
     "metadata": {},
     "output_type": "display_data"
    },
    {
     "data": {
      "application/vnd.jupyter.widget-view+json": {
       "model_id": "dcffa840512648968f57bb986c13b03f",
       "version_major": 2,
       "version_minor": 0
      },
      "text/plain": [
       "  0%|          | 0/45 [00:00<?, ?it/s]"
      ]
     },
     "metadata": {},
     "output_type": "display_data"
    }
   ],
   "source": [
    "mse_collector_2 = {}\n",
    "\n",
    "for ReaderType, target in zip(readerTypes[1:2], targets[1:2]):\n",
    "    reader = ReaderType('data/UCI/archive.ics.uci.edu/ml/machine-learning-databases')\n",
    "    reader.readAndCache()\n",
    "    print(\"---------\")\n",
    "    print(\"Dataset:\", reader.name)\n",
    "    cols = reader.cols\n",
    "    ncols = len(cols)\n",
    "    colcomb = list(itertools.combinations(cols, 2))\n",
    "    colcomb_lim = [(a,b) for a,b in np.random.permutation(colcomb)]\n",
    "    \n",
    "    trainer = utils.Trainer(\n",
    "        cache_dir='models_clean',\n",
    "        default_params={\n",
    "            'objective': 'regression',\n",
    "            'metric': 'mse',\n",
    "            'boosting': 'gbdt',\n",
    "            'num_leaves': 31,\n",
    "            'learning_rate': 0.05,\n",
    "            'verbose': -1,\n",
    "            'device': 'cpu',\n",
    "            'lambda_l2': 0.003,\n",
    "            'early_stopping_round': 10,\n",
    "            'num_boost_round': 100,\n",
    "        },\n",
    "        nocache_params={\n",
    "            'num_threads': 20,\n",
    "        }\n",
    "    )\n",
    "    evaluator = utils.Evaluator(reader, target)\n",
    "    \n",
    "    data_mse = {}\n",
    "    \n",
    "    col_mse = {}\n",
    "    for c in tqdm(cols):\n",
    "        trainData = utils.TrainingData(reader, target, columns=[c])\n",
    "        booster = trainer.train_model(trainData)\n",
    "        new_mse = evaluator.get_model_mse(booster)\n",
    "        col_mse[c] = new_mse\n",
    "\n",
    "    col2_mse_e = {}\n",
    "    for columns in tqdm(colcomb_lim):\n",
    "        trainData = utils.TrainingData(reader, target, columns=list(columns))\n",
    "        booster = trainer.train_model(trainData)\n",
    "        new_mse = evaluator.get_model_mse(booster)\n",
    "        col2_mse_e[columns] = new_mse\n",
    "        \n",
    "    col2_mse_er = {}\n",
    "    for columns in tqdm(colcomb_lim):\n",
    "        trainData = utils.TrainingData(reader, target, columns=list(columns))\n",
    "        booster = trainer.train_model(trainData, override_params={\n",
    "            'interaction_constraints': [[0],[1]],\n",
    "        })\n",
    "        new_mse = evaluator.get_model_mse(booster)\n",
    "        col2_mse_er[columns] = new_mse\n",
    "\n",
    "\n",
    "        features = pd.Series(booster.feature_name())\n",
    "        group_masks = utils.get_feature_group_masks(booster, [[i] for i in features])\n",
    "        tree_preds = utils.get_tree_predictions(booster, evaluator.eval)\n",
    "        group_pred_parts = np.array([tree_preds.dot(mask) for mask in group_masks]).T\n",
    "\n",
    "        second_part_mse = evaluator.get_mse(evaluator.eval_y, group_pred_parts[:, 1]-group_pred_parts[:, 1].mean() + evaluator.train_y.mean())\n",
    "\n",
    "        f1 = booster.feature_name()[1]\n",
    "        col_mse[f1] = min(second_part_mse, col_mse[f1])\n",
    "\n",
    "    mse_collector_2[reader.name] = {\n",
    "        'col_mse': col_mse,\n",
    "        'col2_mse_e': col2_mse_e,\n",
    "        'col2_mse_er': col2_mse_er,\n",
    "        'base_mse': evaluator.base_mse,\n",
    "        'nsamples': len(colcomb_lim)\n",
    "    }"
   ]
  },
  {
   "cell_type": "code",
   "execution_count": 18,
   "id": "1dc1502b",
   "metadata": {},
   "outputs": [],
   "source": [
    "mse_dict = mse_collector_2['PM2.5 Data of Five Chinese Cities']\n",
    "neg_pairs_pm2 = []\n",
    "for col1, col2, _, _ in neg_pairs_pm:\n",
    "    lr_xy = mse_dict['base_mse'] - mse_dict['col2_mse_er'][(col1, col2)]\n",
    "    l_x = mse_dict['base_mse'] - mse_dict['col_mse'][col1]\n",
    "    l_y = mse_dict['base_mse'] - mse_dict['col_mse'][col2]\n",
    "    wr = (lr_xy - l_x - l_y)\n",
    "    neg_pairs_pm2.append((col1, col2, wr, mse_dict['base_mse']))"
   ]
  },
  {
   "cell_type": "code",
   "execution_count": 19,
   "id": "d73407b2",
   "metadata": {},
   "outputs": [
    {
     "name": "stdout",
     "output_type": "stream",
     "text": [
      "Iws precipitation 0.0033209277742301735 -0.09013283291335075\n",
      "HUMI TEMP -0.006099305570056018 -0.12171141830403506\n",
      "HUMI PRES -0.007474329820906446 -0.0820654819720758\n",
      "TEMP Iws 0.004679972646380751 -0.12213904947912753\n",
      "PRES Iws 0.007534640019867239 -0.09383381030035355\n",
      "DEWP Iws 0.0034988615401515735 -0.11868421291036374\n",
      "Iws Iprec 0.0033874425838325275 -0.09047739007427993\n",
      "DEWP HUMI -0.011632510953979493 -0.10785232002006634\n",
      "HUMI Iws 0.004763180855915268 -0.11797092777603974\n",
      "season Iws -0.0004902929960906632 -0.09985303588953413\n"
     ]
    }
   ],
   "source": [
    "reader = data.FccPmData('data/UCI/archive.ics.uci.edu/ml/machine-learning-databases')\n",
    "target = 'PM'\n",
    "datapoints3 = []\n",
    "for col1,col2,wr,base_mse in neg_pairs_pm2:\n",
    "    trainData = utils.TrainingData(reader, target, columns=[col1,col2])\n",
    "    booster = trainer.train_model(trainData, override_params={\n",
    "        'interaction_constraints': [[0],[1]],\n",
    "    })\n",
    "    covmat = utils.get_group_cov(booster, reader.test, [[0],[1]])\n",
    "    print(col1, col2, covmat[0,1]/base_mse, wr/base_mse)\n",
    "    datapoints3.append((covmat[0,1], wr/base_mse))"
   ]
  },
  {
   "cell_type": "code",
   "execution_count": 20,
   "id": "417c20c2",
   "metadata": {},
   "outputs": [
    {
     "data": {
      "image/png": "[encoded data removed]",
      "text/plain": [
       "<Figure size 600x200 with 1 Axes>"
      ]
     },
     "metadata": {},
     "output_type": "display_data"
    }
   ],
   "source": [
    "plt.figure(figsize=(6,2))\n",
    "#plt.title('Measuring the covariance in the case of positive $W^r$ interactions')\n",
    "plt.scatter(*np.array(datapoints1).T[::-1], label='original $W^r$')\n",
    "plt.scatter(*np.array(datapoints3).T[::-1], label='fixed $W^r$')\n",
    "plt.xlabel('$W^r$')\n",
    "plt.ylabel('Covariance')\n",
    "plt.axvline(x = 0, color = 'k', lw=0.5, linestyle=(0,(5,5)))\n",
    "plt.axhline(y = 0, color = 'k', lw=0.5, linestyle=(0,(5,5)))\n",
    "plt.legend()\n",
    "plt.tight_layout()\n",
    "plt.savefig('output/cov_vs_wr.pdf')\n",
    "plt.savefig('output/cov_vs_wr.png')"
   ]
  },
  {
   "cell_type": "code",
   "execution_count": null,
   "id": "f425ff44",
   "metadata": {},
   "outputs": [],
   "source": []
  }
 ],
 "metadata": {
  "kernelspec": {
   "display_name": "Python [conda env:lgbm]",
   "language": "python",
   "name": "conda-env-lgbm-py"
  },
  "language_info": {
   "codemirror_mode": {
    "name": "ipython",
    "version": 3
   },
   "file_extension": ".py",
   "mimetype": "text/x-python",
   "name": "python",
   "nbconvert_exporter": "python",
   "pygments_lexer": "ipython3",
   "version": "3.8.15"
  },
  "notebook_module": {
   "alias": "notebook_module",
   "code": "",
   "compatibility": false
  }
 },
 "nbformat": 4,
 "nbformat_minor": 5
}
