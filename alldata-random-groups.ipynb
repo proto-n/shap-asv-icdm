{
 "cells": [
  {
   "cell_type": "code",
   "execution_count": 1,
   "id": "3476165b",
   "metadata": {},
   "outputs": [],
   "source": [
    "%load_ext autoreload\n",
    "%autoreload 2"
   ]
  },
  {
   "cell_type": "code",
   "execution_count": 2,
   "id": "0afcc617",
   "metadata": {},
   "outputs": [],
   "source": [
    "%matplotlib inline\n",
    "import pandas as pd\n",
    "import numpy as np\n",
    "import matplotlib\n",
    "import matplotlib.pyplot as plt\n",
    "import itertools\n",
    "from tqdm.auto import tqdm"
   ]
  },
  {
   "cell_type": "code",
   "execution_count": 3,
   "id": "80697c05",
   "metadata": {},
   "outputs": [],
   "source": [
    "import data\n",
    "import utils"
   ]
  },
  {
   "cell_type": "code",
   "execution_count": 4,
   "id": "6c222f97",
   "metadata": {},
   "outputs": [],
   "source": [
    "readerTypes = [data.CacuData, data.FccPmData, data.SuperconductivityData, data.GarmentProductivityData]\n",
    "targets = ['ViolentCrimesPerPop', 'PM', 'critical_temp', 'actual_productivity']"
   ]
  },
  {
   "cell_type": "code",
   "execution_count": 5,
   "id": "3531c585",
   "metadata": {},
   "outputs": [],
   "source": [
    "!mkdir -p models_clean_randgroup"
   ]
  },
  {
   "cell_type": "code",
   "execution_count": 6,
   "id": "a69069dc",
   "metadata": {},
   "outputs": [],
   "source": [
    "def get_group_constraints(groups):\n",
    "    interaction_constraints = []\n",
    "    i=0\n",
    "    for g in groups:\n",
    "        interaction_constraints.append(list(range(i, i+len(g))))\n",
    "        i += len(g)\n",
    "    return interaction_constraints"
   ]
  },
  {
   "cell_type": "code",
   "execution_count": 9,
   "id": "3c683b3f",
   "metadata": {},
   "outputs": [
    {
     "name": "stdout",
     "output_type": "stream",
     "text": [
      "---------\n",
      "Dataset: Communities and Crime Unnormalized\n",
      "Calculating full model mse...\n",
      "Calculating E^r model mse...\n",
      "Calculating semantic group E^r mse...\n",
      "Calculating random group 2 E^r mse...\n"
     ]
    },
    {
     "data": {
      "application/vnd.jupyter.widget-view+json": {
       "model_id": "109da930b0ac4a0496b74e12f491a0bb",
       "version_major": 2,
       "version_minor": 0
      },
      "text/plain": [
       "  0%|          | 0/100 [00:00<?, ?it/s]"
      ]
     },
     "metadata": {},
     "output_type": "display_data"
    },
    {
     "name": "stdout",
     "output_type": "stream",
     "text": [
      "Calculating random group 3 E^r mse...\n"
     ]
    },
    {
     "data": {
      "application/vnd.jupyter.widget-view+json": {
       "model_id": "8d9ab51808874d8c85fdd0471d718eb8",
       "version_major": 2,
       "version_minor": 0
      },
      "text/plain": [
       "  0%|          | 0/100 [00:00<?, ?it/s]"
      ]
     },
     "metadata": {},
     "output_type": "display_data"
    },
    {
     "name": "stdout",
     "output_type": "stream",
     "text": [
      "Calculating random group 5 E^r mse...\n"
     ]
    },
    {
     "data": {
      "application/vnd.jupyter.widget-view+json": {
       "model_id": "b6df572b29f84aec998ce18679d38504",
       "version_major": 2,
       "version_minor": 0
      },
      "text/plain": [
       "  0%|          | 0/100 [00:00<?, ?it/s]"
      ]
     },
     "metadata": {},
     "output_type": "display_data"
    },
    {
     "name": "stdout",
     "output_type": "stream",
     "text": [
      "Calculating random group 6 E^r mse...\n"
     ]
    },
    {
     "data": {
      "application/vnd.jupyter.widget-view+json": {
       "model_id": "f63be93cf2264a008bf85c160bba60c0",
       "version_major": 2,
       "version_minor": 0
      },
      "text/plain": [
       "  0%|          | 0/100 [00:00<?, ?it/s]"
      ]
     },
     "metadata": {},
     "output_type": "display_data"
    },
    {
     "name": "stdout",
     "output_type": "stream",
     "text": [
      "---------\n",
      "Dataset: PM2.5 Data of Five Chinese Cities\n",
      "Calculating full model mse...\n",
      "Calculating E^r model mse...\n",
      "Calculating random group 2 E^r mse...\n"
     ]
    },
    {
     "data": {
      "application/vnd.jupyter.widget-view+json": {
       "model_id": "c5c19c3ed61143f59020e3f2831a2fe5",
       "version_major": 2,
       "version_minor": 0
      },
      "text/plain": [
       "  0%|          | 0/100 [00:00<?, ?it/s]"
      ]
     },
     "metadata": {},
     "output_type": "display_data"
    },
    {
     "name": "stdout",
     "output_type": "stream",
     "text": [
      "Calculating random group 3 E^r mse...\n"
     ]
    },
    {
     "data": {
      "application/vnd.jupyter.widget-view+json": {
       "model_id": "3d0ecd4448c1491faca38c8ae601580f",
       "version_major": 2,
       "version_minor": 0
      },
      "text/plain": [
       "  0%|          | 0/100 [00:00<?, ?it/s]"
      ]
     },
     "metadata": {},
     "output_type": "display_data"
    },
    {
     "name": "stdout",
     "output_type": "stream",
     "text": [
      "---------\n",
      "Dataset: Superconductivity\n",
      "Calculating full model mse...\n",
      "Calculating E^r model mse...\n",
      "Calculating random group 2 E^r mse...\n"
     ]
    },
    {
     "data": {
      "application/vnd.jupyter.widget-view+json": {
       "model_id": "9d405f5b383b42f1b969067d02f08033",
       "version_major": 2,
       "version_minor": 0
      },
      "text/plain": [
       "  0%|          | 0/100 [00:00<?, ?it/s]"
      ]
     },
     "metadata": {},
     "output_type": "display_data"
    },
    {
     "name": "stdout",
     "output_type": "stream",
     "text": [
      "Calculating random group 3 E^r mse...\n"
     ]
    },
    {
     "data": {
      "application/vnd.jupyter.widget-view+json": {
       "model_id": "59a1f0feb4dd4dfdba1cf1e9f7213b20",
       "version_major": 2,
       "version_minor": 0
      },
      "text/plain": [
       "  0%|          | 0/100 [00:00<?, ?it/s]"
      ]
     },
     "metadata": {},
     "output_type": "display_data"
    },
    {
     "name": "stdout",
     "output_type": "stream",
     "text": [
      "Calculating random group 5 E^r mse...\n"
     ]
    },
    {
     "data": {
      "application/vnd.jupyter.widget-view+json": {
       "model_id": "dbeaec4a01ae462d8bdfc4a7923427d2",
       "version_major": 2,
       "version_minor": 0
      },
      "text/plain": [
       "  0%|          | 0/100 [00:00<?, ?it/s]"
      ]
     },
     "metadata": {},
     "output_type": "display_data"
    },
    {
     "name": "stdout",
     "output_type": "stream",
     "text": [
      "Calculating random group 6 E^r mse...\n"
     ]
    },
    {
     "data": {
      "application/vnd.jupyter.widget-view+json": {
       "model_id": "6c208b79c26b4f8f8ff575e82cfd3898",
       "version_major": 2,
       "version_minor": 0
      },
      "text/plain": [
       "  0%|          | 0/100 [00:00<?, ?it/s]"
      ]
     },
     "metadata": {},
     "output_type": "display_data"
    },
    {
     "name": "stdout",
     "output_type": "stream",
     "text": [
      "---------\n",
      "Dataset: Productivity Prediction of Garment Employees\n",
      "Calculating full model mse...\n",
      "Calculating E^r model mse...\n",
      "Calculating random group 2 E^r mse...\n"
     ]
    },
    {
     "data": {
      "application/vnd.jupyter.widget-view+json": {
       "model_id": "00fabf2d778a4b28848858d98a44a077",
       "version_major": 2,
       "version_minor": 0
      },
      "text/plain": [
       "  0%|          | 0/100 [00:00<?, ?it/s]"
      ]
     },
     "metadata": {},
     "output_type": "display_data"
    },
    {
     "name": "stdout",
     "output_type": "stream",
     "text": [
      "Calculating random group 3 E^r mse...\n"
     ]
    },
    {
     "data": {
      "application/vnd.jupyter.widget-view+json": {
       "model_id": "8fbb741f3b2e4f3088ad54db21d48d4e",
       "version_major": 2,
       "version_minor": 0
      },
      "text/plain": [
       "  0%|          | 0/100 [00:00<?, ?it/s]"
      ]
     },
     "metadata": {},
     "output_type": "display_data"
    }
   ],
   "source": [
    "mse_collector = {}\n",
    "\n",
    "for ReaderType, target in zip(readerTypes, targets):\n",
    "    reader = ReaderType('data/UCI/archive.ics.uci.edu/ml/machine-learning-databases')\n",
    "    reader.readAndCache()\n",
    "    print(\"---------\")\n",
    "    print(\"Dataset:\", reader.name)\n",
    "    cols = reader.cols\n",
    "    ncols = len(cols)\n",
    "\n",
    "    trainer = utils.Trainer(\n",
    "        cache_dir='models_clean',\n",
    "        default_params={\n",
    "            'objective': 'regression',\n",
    "            'metric': 'mse',\n",
    "            'boosting': 'gbdt',\n",
    "            'num_leaves': 31,\n",
    "            'learning_rate': 0.05,\n",
    "            'verbose': -1,\n",
    "            'device': 'cpu',\n",
    "            'lambda_l2': 0.003,\n",
    "            'early_stopping_round': 10,\n",
    "            'num_boost_round': 100,\n",
    "        },\n",
    "        nocache_params={\n",
    "            'num_threads': 20,\n",
    "        }\n",
    "    )\n",
    "    evaluator = utils.Evaluator(reader, target)\n",
    "    \n",
    "    data_mse = {}\n",
    "    \n",
    "    print(\"Calculating full model mse...\")\n",
    "    trainData = utils.TrainingData(reader, target, columns=cols)\n",
    "    booster = trainer.train_model(trainData)\n",
    "    new_mse = evaluator.get_model_mse(booster)\n",
    "    data_mse['base_mse'] = evaluator.base_mse\n",
    "    data_mse['features_e'] = {'ngroups': 1, 'mse':new_mse}\n",
    "    \n",
    "    print(\"Calculating E^r model mse...\")\n",
    "    booster = trainer.train_model(trainData, {\n",
    "        'interaction_constraints': [[i] for i in range(len(reader.cols))]\n",
    "    })\n",
    "    new_mse = evaluator.get_model_mse(booster)\n",
    "    data_mse['features_er'] = {'ngroups': len(reader.cols), 'mse':new_mse}\n",
    "    mse_collector[reader.name] = data_mse\n",
    "    \n",
    "    #e_r semantic groups\n",
    "    if reader.groups is not None:\n",
    "        print(\"Calculating semantic group E^r mse...\")\n",
    "        trainData = utils.TrainingData(reader, target, columns=[i for g in reader.groups.values() for i in g])\n",
    "        booster = trainer.train_model(trainData, {\n",
    "            'interaction_constraints': get_group_constraints(reader.groups),\n",
    "        })\n",
    "        new_mse = evaluator.get_model_mse(booster)\n",
    "        data_mse['semantic_groups'] = {'ngroups': len(reader.groups), 'mse':new_mse}\n",
    "    \n",
    "    for groupsize in [2,3,5,6]:\n",
    "        np.random.seed(reader.seed)\n",
    "        ngroups = len(cols)//groupsize\n",
    "        if ngroups <= 2:\n",
    "            continue\n",
    "        mses = []\n",
    "        print(\"Calculating random group\", groupsize, \"E^r mse...\")\n",
    "        for i in tqdm(range(100)):\n",
    "            feature_perm = np.random.permutation(cols)\n",
    "            groups = np.array_split(feature_perm, ngroups)[::-1] # array split puts longer groups first, lets switch the order\n",
    "            trainData = utils.TrainingData(reader, target, columns=[i for g in groups for i in g])\n",
    "            booster = trainer.train_model(trainData, {\n",
    "                'interaction_constraints': get_group_constraints(groups),\n",
    "            })\n",
    "            new_mse = evaluator.get_model_mse(booster)\n",
    "            mses.append(new_mse)\n",
    "        data_mse['random_groups_'+str(groupsize)] = {'ngroups': ngroups, 'mse':np.mean(mses)}\n",
    "    mse_collector[reader.name] = data_mse"
   ]
  },
  {
   "cell_type": "code",
   "execution_count": 10,
   "id": "f1fc5d49",
   "metadata": {},
   "outputs": [
    {
     "name": "stdout",
     "output_type": "stream",
     "text": [
      "Communities and Crime Unnormalized\n",
      "- features_e 1 0.38027166104328924\n",
      "- features_er 124 0.4062480053720343\n",
      "- semantic_groups 13 0.3856312415736422\n",
      "- random_groups_2 62 0.4060129406739165\n",
      "- random_groups_3 41 0.3997381865503116\n",
      "- random_groups_5 24 0.3806585189902847\n",
      "- random_groups_6 20 0.37401852563522353\n",
      "PM2.5 Data of Five Chinese Cities\n",
      "- features_e 1 0.6251303299193164\n",
      "- features_er 14 0.8326940909237712\n",
      "- random_groups_2 7 0.7823754497255953\n",
      "- random_groups_3 4 0.7336194592628724\n",
      "Superconductivity\n",
      "- features_e 1 0.09774168690569907\n",
      "- features_er 81 0.17746699215750641\n",
      "- random_groups_2 40 0.1424491548571722\n",
      "- random_groups_3 27 0.13269479017036584\n",
      "- random_groups_5 16 0.12284317077204072\n",
      "- random_groups_6 13 0.11926090689541963\n",
      "Productivity Prediction of Garment Employees\n",
      "- features_e 1 0.5532743667197897\n",
      "- features_er 14 0.6151372488688107\n",
      "- random_groups_2 7 0.5861638971292005\n",
      "- random_groups_3 4 0.5760601387406408\n"
     ]
    }
   ],
   "source": [
    "for name, data_mse in mse_collector.items():\n",
    "    print(name)\n",
    "    for kind, mse in data_mse.items():\n",
    "        if kind == \"base_mse\":\n",
    "            continue\n",
    "        print(\"-\", kind, mse['ngroups'], mse['mse']/data_mse['base_mse'])"
   ]
  },
  {
   "cell_type": "code",
   "execution_count": 11,
   "id": "e43e442c",
   "metadata": {},
   "outputs": [
    {
     "name": "stdout",
     "output_type": "stream",
     "text": [
      "\\midrule\n",
      "\\multicolumn{3}{l}{Communities and Crime Unnormalized}\\\\\n",
      "\\midrule\n",
      "Base features ($E$)&1&0.3803\\\\\n",
      "Base features ($E^r$)&124&0.4062\\\\\n",
      "Semantic groups&13&0.3856\\\\\n",
      "Random groups (2)&62&0.4060\\\\\n",
      "Random groups (3)&41&0.3997\\\\\n",
      "Random groups (5)&24&0.3807\\\\\n",
      "Random groups (6)&20&0.3740\\\\\n",
      "\\midrule\n",
      "\\multicolumn{3}{l}{PM2.5 Data of Five Chinese Cities}\\\\\n",
      "\\midrule\n",
      "Base features ($E$)&1&0.6251\\\\\n",
      "Base features ($E^r$)&14&0.8327\\\\\n",
      "Random groups (2)&7&0.7824\\\\\n",
      "Random groups (3)&4&0.7336\\\\\n",
      "\\midrule\n",
      "\\multicolumn{3}{l}{Superconductivity}\\\\\n",
      "\\midrule\n",
      "Base features ($E$)&1&0.0977\\\\\n",
      "Base features ($E^r$)&81&0.1775\\\\\n",
      "Random groups (2)&40&0.1424\\\\\n",
      "Random groups (3)&27&0.1327\\\\\n",
      "Random groups (5)&16&0.1228\\\\\n",
      "Random groups (6)&13&0.1193\\\\\n",
      "\\midrule\n",
      "\\multicolumn{3}{l}{Productivity Prediction of Garment Employees}\\\\\n",
      "\\midrule\n",
      "Base features ($E$)&1&0.5533\\\\\n",
      "Base features ($E^r$)&14&0.6151\\\\\n",
      "Random groups (2)&7&0.5862\\\\\n",
      "Random groups (3)&4&0.5761\\\\\n"
     ]
    }
   ],
   "source": [
    "# latex translate dict\n",
    "ltd = {\n",
    "    'features_e': 'Base features ($E$)',\n",
    "    'features_er': 'Base features ($E^r$)',\n",
    "    'semantic_groups': 'Semantic groups',\n",
    "    'random_groups_2': 'Random groups (2)',\n",
    "    'random_groups_3': 'Random groups (3)',\n",
    "    'random_groups_5': 'Random groups (5)',\n",
    "    'random_groups_6': 'Random groups (6)',\n",
    "}\n",
    "for name, data_mse in mse_collector.items():\n",
    "    print('\\midrule')\n",
    "    print(\"\\multicolumn{3}{l}{%s}\"%name, end=\"\\\\\\\\\\n\")\n",
    "    print('\\midrule')\n",
    "    for kind, mse in data_mse.items():\n",
    "        if kind == \"base_mse\":\n",
    "            continue\n",
    "        print(ltd[kind], mse['ngroups'], \"%.4f\"%(mse['mse']/data_mse['base_mse']), sep=\"&\", end=\"\\\\\\\\\\n\")"
   ]
  },
  {
   "cell_type": "code",
   "execution_count": 12,
   "id": "3ba568a1",
   "metadata": {},
   "outputs": [],
   "source": [
    "labels = list(ltd.keys())\n",
    "data = [[(mse_dict[l]['mse']/mse_dict['base_mse'] if l in mse_dict else 0) for l in labels] for mse_dict in mse_collector.values()]"
   ]
  },
  {
   "cell_type": "code",
   "execution_count": 13,
   "id": "325c2b9a",
   "metadata": {},
   "outputs": [
    {
     "data": {
      "image/png": "[encoded data removed]",
      "text/plain": [
       "<Figure size 500x200 with 1 Axes>"
      ]
     },
     "metadata": {},
     "output_type": "display_data"
    }
   ],
   "source": [
    "plt.figure(figsize=(5,2))\n",
    "#labels = [\"a\",\"b\",\"c\"]\n",
    "#data = [[1,2,3],[3,2,1],[5,6,7],[1,1,4]]\n",
    "slack = 3\n",
    "width = 1/(len(labels)*(len(data)+slack))\n",
    "pos_0 = np.linspace(0,1,len(data[0])+1)[:-1]\n",
    "for i,d in enumerate(data):\n",
    "    plt.bar(pos_0+i*width, d, width=width)\n",
    "plt.xticks(pos_0+((len(data)-1)*width/2), labels, rotation = 90);"
   ]
  },
  {
   "cell_type": "markdown",
   "id": "1a050a9c",
   "metadata": {},
   "source": [
    "# Contributions"
   ]
  },
  {
   "cell_type": "code",
   "execution_count": 36,
   "id": "07d50c52",
   "metadata": {},
   "outputs": [
    {
     "name": "stdout",
     "output_type": "stream",
     "text": [
      "---------\n",
      "Dataset: Communities and Crime Unnormalized\n",
      "Calculating random group 1 E^r mse...\n"
     ]
    },
    {
     "data": {
      "application/vnd.jupyter.widget-view+json": {
       "model_id": "4664945f0e2646349fbabac447ebb427",
       "version_major": 2,
       "version_minor": 0
      },
      "text/plain": [
       "  0%|          | 0/100 [00:00<?, ?it/s]"
      ]
     },
     "metadata": {},
     "output_type": "display_data"
    },
    {
     "name": "stdout",
     "output_type": "stream",
     "text": [
      "Calculating random group 2 E^r mse...\n"
     ]
    },
    {
     "data": {
      "application/vnd.jupyter.widget-view+json": {
       "model_id": "4079aec696da4204be6b01a425b22ae4",
       "version_major": 2,
       "version_minor": 0
      },
      "text/plain": [
       "  0%|          | 0/100 [00:00<?, ?it/s]"
      ]
     },
     "metadata": {},
     "output_type": "display_data"
    },
    {
     "name": "stdout",
     "output_type": "stream",
     "text": [
      "Calculating random group 3 E^r mse...\n"
     ]
    },
    {
     "data": {
      "application/vnd.jupyter.widget-view+json": {
       "model_id": "903c96e076f141df90de8dd8e093184b",
       "version_major": 2,
       "version_minor": 0
      },
      "text/plain": [
       "  0%|          | 0/100 [00:00<?, ?it/s]"
      ]
     },
     "metadata": {},
     "output_type": "display_data"
    },
    {
     "name": "stdout",
     "output_type": "stream",
     "text": [
      "Calculating random group 5 E^r mse...\n"
     ]
    },
    {
     "data": {
      "application/vnd.jupyter.widget-view+json": {
       "model_id": "7828a1e790cb46d7a144699b796a2a59",
       "version_major": 2,
       "version_minor": 0
      },
      "text/plain": [
       "  0%|          | 0/100 [00:00<?, ?it/s]"
      ]
     },
     "metadata": {},
     "output_type": "display_data"
    },
    {
     "name": "stdout",
     "output_type": "stream",
     "text": [
      "Calculating random group 6 E^r mse...\n"
     ]
    },
    {
     "data": {
      "application/vnd.jupyter.widget-view+json": {
       "model_id": "4aee2e815ea948fb95b83208229837ee",
       "version_major": 2,
       "version_minor": 0
      },
      "text/plain": [
       "  0%|          | 0/100 [00:00<?, ?it/s]"
      ]
     },
     "metadata": {},
     "output_type": "display_data"
    },
    {
     "name": "stdout",
     "output_type": "stream",
     "text": [
      "---------\n",
      "Dataset: PM2.5 Data of Five Chinese Cities\n",
      "Calculating random group 1 E^r mse...\n"
     ]
    },
    {
     "data": {
      "application/vnd.jupyter.widget-view+json": {
       "model_id": "2b11dc35ce72473fb1933bd2380242e7",
       "version_major": 2,
       "version_minor": 0
      },
      "text/plain": [
       "  0%|          | 0/100 [00:00<?, ?it/s]"
      ]
     },
     "metadata": {},
     "output_type": "display_data"
    },
    {
     "name": "stdout",
     "output_type": "stream",
     "text": [
      "Calculating random group 2 E^r mse...\n"
     ]
    },
    {
     "data": {
      "application/vnd.jupyter.widget-view+json": {
       "model_id": "ae9cebd3423f417f8200259ddb3d66d3",
       "version_major": 2,
       "version_minor": 0
      },
      "text/plain": [
       "  0%|          | 0/100 [00:00<?, ?it/s]"
      ]
     },
     "metadata": {},
     "output_type": "display_data"
    },
    {
     "name": "stdout",
     "output_type": "stream",
     "text": [
      "Calculating random group 3 E^r mse...\n"
     ]
    },
    {
     "data": {
      "application/vnd.jupyter.widget-view+json": {
       "model_id": "1ccaf76718234ff49ea9f2274d43c8cd",
       "version_major": 2,
       "version_minor": 0
      },
      "text/plain": [
       "  0%|          | 0/100 [00:00<?, ?it/s]"
      ]
     },
     "metadata": {},
     "output_type": "display_data"
    },
    {
     "name": "stdout",
     "output_type": "stream",
     "text": [
      "---------\n",
      "Dataset: Superconductivity\n",
      "Calculating random group 1 E^r mse...\n"
     ]
    },
    {
     "data": {
      "application/vnd.jupyter.widget-view+json": {
       "model_id": "ea60325e277e4d238495182d441c82ec",
       "version_major": 2,
       "version_minor": 0
      },
      "text/plain": [
       "  0%|          | 0/100 [00:00<?, ?it/s]"
      ]
     },
     "metadata": {},
     "output_type": "display_data"
    },
    {
     "name": "stdout",
     "output_type": "stream",
     "text": [
      "Calculating random group 2 E^r mse...\n"
     ]
    },
    {
     "data": {
      "application/vnd.jupyter.widget-view+json": {
       "model_id": "1b0e39e468a34959b283a774c5bc828d",
       "version_major": 2,
       "version_minor": 0
      },
      "text/plain": [
       "  0%|          | 0/100 [00:00<?, ?it/s]"
      ]
     },
     "metadata": {},
     "output_type": "display_data"
    },
    {
     "name": "stdout",
     "output_type": "stream",
     "text": [
      "Calculating random group 3 E^r mse...\n"
     ]
    },
    {
     "data": {
      "application/vnd.jupyter.widget-view+json": {
       "model_id": "e44cdd6f65b545ce89de30c2166b1beb",
       "version_major": 2,
       "version_minor": 0
      },
      "text/plain": [
       "  0%|          | 0/100 [00:00<?, ?it/s]"
      ]
     },
     "metadata": {},
     "output_type": "display_data"
    },
    {
     "name": "stdout",
     "output_type": "stream",
     "text": [
      "Calculating random group 5 E^r mse...\n"
     ]
    },
    {
     "data": {
      "application/vnd.jupyter.widget-view+json": {
       "model_id": "640975b6dc7c44c580c11a35731a078a",
       "version_major": 2,
       "version_minor": 0
      },
      "text/plain": [
       "  0%|          | 0/100 [00:00<?, ?it/s]"
      ]
     },
     "metadata": {},
     "output_type": "display_data"
    },
    {
     "name": "stdout",
     "output_type": "stream",
     "text": [
      "Calculating random group 6 E^r mse...\n"
     ]
    },
    {
     "data": {
      "application/vnd.jupyter.widget-view+json": {
       "model_id": "38adfd31fb704950862f99014dafe814",
       "version_major": 2,
       "version_minor": 0
      },
      "text/plain": [
       "  0%|          | 0/100 [00:00<?, ?it/s]"
      ]
     },
     "metadata": {},
     "output_type": "display_data"
    },
    {
     "name": "stdout",
     "output_type": "stream",
     "text": [
      "---------\n",
      "Dataset: Productivity Prediction of Garment Employees\n",
      "Calculating random group 1 E^r mse...\n"
     ]
    },
    {
     "data": {
      "application/vnd.jupyter.widget-view+json": {
       "model_id": "aa511c9a29ac48ec8181af50765e28e1",
       "version_major": 2,
       "version_minor": 0
      },
      "text/plain": [
       "  0%|          | 0/100 [00:00<?, ?it/s]"
      ]
     },
     "metadata": {},
     "output_type": "display_data"
    },
    {
     "name": "stdout",
     "output_type": "stream",
     "text": [
      "Calculating random group 2 E^r mse...\n"
     ]
    },
    {
     "data": {
      "application/vnd.jupyter.widget-view+json": {
       "model_id": "8737ac3267a840bab869858322fa4acd",
       "version_major": 2,
       "version_minor": 0
      },
      "text/plain": [
       "  0%|          | 0/100 [00:00<?, ?it/s]"
      ]
     },
     "metadata": {},
     "output_type": "display_data"
    },
    {
     "name": "stdout",
     "output_type": "stream",
     "text": [
      "Calculating random group 3 E^r mse...\n"
     ]
    },
    {
     "data": {
      "application/vnd.jupyter.widget-view+json": {
       "model_id": "7271c717607744b6b2b65c42b0ff89e8",
       "version_major": 2,
       "version_minor": 0
      },
      "text/plain": [
       "  0%|          | 0/100 [00:00<?, ?it/s]"
      ]
     },
     "metadata": {},
     "output_type": "display_data"
    }
   ],
   "source": [
    "mse_collector = {}\n",
    "\n",
    "for ReaderType, target in zip(readerTypes, targets):\n",
    "    reader = ReaderType('data/UCI/archive.ics.uci.edu/ml/machine-learning-databases')\n",
    "    reader.readAndCache()\n",
    "    print(\"---------\")\n",
    "    print(\"Dataset:\", reader.name)\n",
    "    cols = reader.cols\n",
    "    ncols = len(cols)\n",
    "\n",
    "    trainer = utils.Trainer(\n",
    "        cache_dir='models_clean',\n",
    "        default_params={\n",
    "            'objective': 'regression',\n",
    "            'metric': 'mse',\n",
    "            'boosting': 'gbdt',\n",
    "            'num_leaves': 31,\n",
    "            'learning_rate': 0.05,\n",
    "            'verbose': -1,\n",
    "            'device': 'cpu',\n",
    "            'lambda_l2': 0.003,\n",
    "            'early_stopping_round': 10,\n",
    "            'num_boost_round': 100,\n",
    "        },\n",
    "        nocache_params={\n",
    "            'num_threads': 20,\n",
    "        }\n",
    "    )\n",
    "    evaluator = utils.Evaluator(reader, target)\n",
    "    \n",
    "    data_mse = {}\n",
    "\n",
    "    for groupsize in [1,2,3,5,6]:\n",
    "        np.random.seed(reader.seed)\n",
    "        ngroups = len(cols)//groupsize\n",
    "        if ngroups <= 2:\n",
    "            continue\n",
    "        mses_e = []\n",
    "        mses_er = []\n",
    "        print(\"Calculating random group\", groupsize, \"E^r mse...\")\n",
    "        for i in tqdm(range(100)):\n",
    "            contribs_e = [evaluator.base_mse]\n",
    "            contribs_er = [evaluator.base_mse]\n",
    "            feature_perm = np.random.permutation(cols)\n",
    "            groups = np.array_split(feature_perm, ngroups)[::-1] # array split puts longer groups first, lets switch the order\n",
    "            groups_sofar = []\n",
    "            for g in groups:\n",
    "                groups_sofar.append(g)\n",
    "                trainData = utils.TrainingData(reader, target, columns=[i for g in groups_sofar for i in g])\n",
    "                \n",
    "                booster = trainer.train_model(trainData)\n",
    "                new_mse = evaluator.get_model_mse(booster)\n",
    "                contribs_e.append(new_mse - np.sum(contribs_e))\n",
    "                \n",
    "                booster = trainer.train_model(trainData, {\n",
    "                    'interaction_constraints': get_group_constraints(groups_sofar),\n",
    "                })\n",
    "                new_mse = evaluator.get_model_mse(booster)\n",
    "                contribs_er.append(new_mse - np.sum(contribs_er))\n",
    "                \n",
    "                if len(contribs_e) > 5:\n",
    "                    break\n",
    "            mses_e.append(contribs_e)\n",
    "            mses_er.append(contribs_er)\n",
    "        data_mse['random_groups_'+str(groupsize)] = {\n",
    "            'ngroups': ngroups,\n",
    "            'mses_e':np.array(mses_e).mean(axis=0),\n",
    "            'mses_er':np.array(mses_er).mean(axis=0),\n",
    "            'base_mse':evaluator.base_mse,\n",
    "        }\n",
    "    mse_collector[reader.name] = data_mse"
   ]
  },
  {
   "cell_type": "code",
   "execution_count": 37,
   "id": "0ca8cb80",
   "metadata": {},
   "outputs": [
    {
     "name": "stdout",
     "output_type": "stream",
     "text": [
      "Communities and Crime Unnormalized\n",
      "random_groups_1\n",
      "[ 1.         -0.13581962 -0.08875594 -0.06440981 -0.06515439 -0.04183157]\n",
      "[ 1.         -0.13581962 -0.07642613 -0.04481189 -0.04739945 -0.0311251 ]\n",
      "random_groups_2\n",
      "[ 1.         -0.22457556 -0.12956155 -0.07881013 -0.04517915 -0.02978859]\n",
      "[ 1.         -0.22457556 -0.09316917 -0.06551522 -0.03657607 -0.02333432]\n",
      "random_groups_3\n",
      "[ 1.         -0.28898537 -0.14396553 -0.06835585 -0.03172062 -0.02056061]\n",
      "[ 1.         -0.28898537 -0.11219175 -0.05635408 -0.02855884 -0.02293215]\n",
      "random_groups_5\n",
      "[ 1.         -0.39597951 -0.1119512  -0.04566263 -0.02381191 -0.01540892]\n",
      "[ 1.         -0.39597951 -0.08902798 -0.03812489 -0.01701975 -0.01808468]\n",
      "random_groups_6\n",
      "[ 1.         -0.43268542 -0.10032866 -0.03642931 -0.01943242 -0.01332475]\n",
      "[ 1.         -0.43268542 -0.07983357 -0.0371828  -0.01468369 -0.01199517]\n",
      "PM2.5 Data of Five Chinese Cities\n",
      "random_groups_1\n",
      "[ 1.00000000e+00 -7.18138161e-04 -2.94985703e-02 -3.70319403e-02\n",
      " -5.12673413e-02 -5.06445057e-02]\n",
      "[ 1.00000000e+00 -7.18138161e-04 -1.56089196e-02 -1.26814316e-02\n",
      " -1.70604560e-02 -1.86081602e-02]\n",
      "random_groups_2\n",
      "[ 1.         -0.03021671 -0.08829927 -0.08660095 -0.0680027  -0.04601854]\n",
      "[ 1.         -0.03021671 -0.04494142 -0.04026754 -0.03286226 -0.02795517]\n",
      "random_groups_3\n",
      "[ 1.         -0.06724835 -0.13786941 -0.11402131 -0.05572701]\n",
      "[ 1.         -0.06724835 -0.07913392 -0.07379036 -0.04620792]\n",
      "Superconductivity\n",
      "random_groups_1\n",
      "[ 1.         -0.5045679  -0.20332096 -0.07466269 -0.03264497 -0.01861451]\n",
      "[ 1.         -0.5045679  -0.1277895  -0.05814092 -0.02677624 -0.01931214]\n",
      "random_groups_2\n",
      "[ 1.         -0.70789127 -0.10730837 -0.0304007  -0.01467616 -0.00868043]\n",
      "[ 1.         -0.70789127 -0.06802198 -0.02481484 -0.01077722 -0.00716009]\n",
      "random_groups_3\n",
      "[ 1.         -0.78255627 -0.0630431  -0.01909125 -0.00986001 -0.0062097 ]\n",
      "[ 1.         -0.78255627 -0.03914256 -0.01266324 -0.00773704 -0.00526427]\n",
      "random_groups_5\n",
      "[ 1.         -0.83380903 -0.03514531 -0.01180783 -0.00654961 -0.0039611 ]\n",
      "[ 1.         -0.83380903 -0.02036745 -0.00735598 -0.00499194 -0.00243341]\n",
      "random_groups_6\n",
      "[ 1.         -0.84560213 -0.02895204 -0.01031223 -0.00588251 -0.00340335]\n",
      "[ 1.         -0.84560213 -0.01665104 -0.00670754 -0.00358785 -0.00209669]\n",
      "Productivity Prediction of Garment Employees\n",
      "random_groups_1\n",
      "[ 1.         -0.05226961 -0.06977801 -0.06416187 -0.07032881 -0.03735998]\n",
      "[ 1.         -0.05226961 -0.05027451 -0.04403773 -0.04674913 -0.02997602]\n",
      "random_groups_2\n",
      "[ 1.         -0.12204762 -0.13449149 -0.08116702 -0.05942362 -0.03652705]\n",
      "[ 1.         -0.12204762 -0.10825361 -0.06012342 -0.05135466 -0.02794101]\n",
      "random_groups_3\n",
      "[ 1.         -0.18620949 -0.15150359 -0.09593701 -0.01312057]\n",
      "[ 1.         -0.18620949 -0.11712233 -0.07957884 -0.0410292 ]\n"
     ]
    }
   ],
   "source": [
    "for name, group_setups in mse_collector.items():\n",
    "    print(name)\n",
    "    for group, mse_info in group_setups.items():\n",
    "        print(group)\n",
    "        print(mse_info['mses_e']/mse_info['base_mse'])\n",
    "        print(mse_info['mses_er']/mse_info['base_mse'])"
   ]
  },
  {
   "cell_type": "code",
   "execution_count": 45,
   "id": "1042ccc1",
   "metadata": {},
   "outputs": [
    {
     "name": "stdout",
     "output_type": "stream",
     "text": [
      "Grouping&$\\phi_1$&$\\phi_2$&$\\phi_3$&$\\phi_4$&$\\phi_5$\\\\\n",
      "\\midrule\n",
      "\\multicolumn{6}{l}{Communities and Crime Unnormalized}\\\\\n",
      "\\midrule\n",
      "Individual features ($E$) & -0.1358 & -0.0888 & -0.0644 & -0.0652 & -0.0418\\\\\n",
      "Individual features ($E^r$) & -0.1358 & -0.0764 & -0.0448 & -0.0474 & -0.0311\\\\\n",
      "Random groups of size 2 ($E$) & -0.2246 & -0.1296 & -0.0788 & -0.0452 & -0.0298\\\\\n",
      "Random groups of size 2 ($E^r$) & -0.2246 & -0.0932 & -0.0655 & -0.0366 & -0.0233\\\\\n",
      "Random groups of size 3 ($E$) & -0.2890 & -0.1440 & -0.0684 & -0.0317 & -0.0206\\\\\n",
      "Random groups of size 3 ($E^r$) & -0.2890 & -0.1122 & -0.0564 & -0.0286 & -0.0229\\\\\n",
      "Random groups of size 5 ($E$) & -0.3960 & -0.1120 & -0.0457 & -0.0238 & -0.0154\\\\\n",
      "Random groups of size 5 ($E^r$) & -0.3960 & -0.0890 & -0.0381 & -0.0170 & -0.0181\\\\\n",
      "Random groups of size 6 ($E$) & -0.4327 & -0.1003 & -0.0364 & -0.0194 & -0.0133\\\\\n",
      "Random groups of size 6 ($E^r$) & -0.4327 & -0.0798 & -0.0372 & -0.0147 & -0.0120\\\\\n",
      "\\midrule\n",
      "\\multicolumn{6}{l}{PM2.5 Data of Five Chinese Cities}\\\\\n",
      "\\midrule\n",
      "Individual features ($E$) & -0.0007 & -0.0295 & -0.0370 & -0.0513 & -0.0506\\\\\n",
      "Individual features ($E^r$) & -0.0007 & -0.0156 & -0.0127 & -0.0171 & -0.0186\\\\\n",
      "Random groups of size 2 ($E$) & -0.0302 & -0.0883 & -0.0866 & -0.0680 & -0.0460\\\\\n",
      "Random groups of size 2 ($E^r$) & -0.0302 & -0.0449 & -0.0403 & -0.0329 & -0.0280\\\\\n",
      "Random groups of size 3 ($E$) & -0.0672 & -0.1379 & -0.1140 & -0.0557\\\\\n",
      "Random groups of size 3 ($E^r$) & -0.0672 & -0.0791 & -0.0738 & -0.0462\\\\\n",
      "\\midrule\n",
      "\\multicolumn{6}{l}{Superconductivity}\\\\\n",
      "\\midrule\n",
      "Individual features ($E$) & -0.5046 & -0.2033 & -0.0747 & -0.0326 & -0.0186\\\\\n",
      "Individual features ($E^r$) & -0.5046 & -0.1278 & -0.0581 & -0.0268 & -0.0193\\\\\n",
      "Random groups of size 2 ($E$) & -0.7079 & -0.1073 & -0.0304 & -0.0147 & -0.0087\\\\\n",
      "Random groups of size 2 ($E^r$) & -0.7079 & -0.0680 & -0.0248 & -0.0108 & -0.0072\\\\\n",
      "Random groups of size 3 ($E$) & -0.7826 & -0.0630 & -0.0191 & -0.0099 & -0.0062\\\\\n",
      "Random groups of size 3 ($E^r$) & -0.7826 & -0.0391 & -0.0127 & -0.0077 & -0.0053\\\\\n",
      "Random groups of size 5 ($E$) & -0.8338 & -0.0351 & -0.0118 & -0.0065 & -0.0040\\\\\n",
      "Random groups of size 5 ($E^r$) & -0.8338 & -0.0204 & -0.0074 & -0.0050 & -0.0024\\\\\n",
      "Random groups of size 6 ($E$) & -0.8456 & -0.0290 & -0.0103 & -0.0059 & -0.0034\\\\\n",
      "Random groups of size 6 ($E^r$) & -0.8456 & -0.0167 & -0.0067 & -0.0036 & -0.0021\\\\\n",
      "\\midrule\n",
      "\\multicolumn{6}{l}{Productivity Prediction of Garment Employees}\\\\\n",
      "\\midrule\n",
      "Individual features ($E$) & -0.0523 & -0.0698 & -0.0642 & -0.0703 & -0.0374\\\\\n",
      "Individual features ($E^r$) & -0.0523 & -0.0503 & -0.0440 & -0.0467 & -0.0300\\\\\n",
      "Random groups of size 2 ($E$) & -0.1220 & -0.1345 & -0.0812 & -0.0594 & -0.0365\\\\\n",
      "Random groups of size 2 ($E^r$) & -0.1220 & -0.1083 & -0.0601 & -0.0514 & -0.0279\\\\\n",
      "Random groups of size 3 ($E$) & -0.1862 & -0.1515 & -0.0959 & -0.0131\\\\\n",
      "Random groups of size 3 ($E^r$) & -0.1862 & -0.1171 & -0.0796 & -0.0410\\\\\n"
     ]
    }
   ],
   "source": [
    "# latex translate dict\n",
    "ltd = {\n",
    "    'random_groups_1': 'Individual features',\n",
    "    'random_groups_2': 'Random groups of size 2',\n",
    "    'random_groups_3': 'Random groups of size 3',\n",
    "    'random_groups_5': 'Random groups of size 5',\n",
    "    'random_groups_6': 'Random groups of size 6',\n",
    "}\n",
    "print(\"Grouping\", *[\"$\\phi_%d$\"%i for i in range(1,6)], sep=\"&\", end=\"\\\\\\\\\\n\")\n",
    "for name, group_setups in mse_collector.items():\n",
    "    print('\\midrule')\n",
    "    print(\"\\multicolumn{6}{l}{%s}\"%name, end=\"\\\\\\\\\\n\")\n",
    "    print('\\midrule')\n",
    "    for group, mse_info in group_setups.items():\n",
    "        print(ltd[group]+\" ($E$)\", *[\"%.4f\"%f for f in mse_info['mses_e'][1:]/mse_info['base_mse']], sep=\" & \", end=\"\\\\\\\\\\n\")\n",
    "        print(ltd[group]+\" ($E^r$)\", *[\"%.4f\"%f for f in mse_info['mses_er'][1:]/mse_info['base_mse']], sep=\" & \", end=\"\\\\\\\\\\n\")"
   ]
  },
  {
   "cell_type": "code",
   "execution_count": 30,
   "id": "45dae2e7",
   "metadata": {},
   "outputs": [
    {
     "data": {
      "text/plain": [
       "{'random_groups_1': {'ngroups': 124,\n",
       "  'mses_e': array([306935.62065916, 265247.72746687, 238005.36866657, 218235.70327279,\n",
       "         198237.50100627, 185397.90328788]),\n",
       "  'mses_er': array([306935.62065916, 265247.72746687, 241789.82453004, 228035.45950236,\n",
       "         213486.88135603, 203933.47955831]),\n",
       "  'base_mse': 306935.6206591561},\n",
       " 'random_groups_2': {'ngroups': 62,\n",
       "  'mses_e': array([306935.62065916, 238005.36866657, 198238.31292433, 174048.67654813,\n",
       "         160181.58577769, 151038.40720213]),\n",
       "  'mses_er': array([306935.62065916, 238005.36866657, 209408.43270914, 189299.47943938,\n",
       "         178072.97997092, 170910.84507696]),\n",
       "  'base_mse': 306935.6206591561},\n",
       " 'random_groups_3': {'ngroups': 41,\n",
       "  'mses_e': array([306935.62065916, 218235.70327279, 174047.55452482, 153066.7080982 ,\n",
       "         143330.52051213, 137019.73700659]),\n",
       "  'mses_er': array([306935.62065916, 218235.70327279, 183800.05904047, 166502.9846103 ,\n",
       "         157737.25976544, 150698.56650277]),\n",
       "  'base_mse': 306935.6206591561},\n",
       " 'random_groups_5': {'ngroups': 24,\n",
       "  'mses_e': array([306935.62065916, 185395.38889446, 151033.57922368, 137018.09172626,\n",
       "         129709.36888472, 124979.82284863]),\n",
       "  'mses_er': array([306935.62065916, 185395.38889446, 158069.5301603 , 146367.6435164 ,\n",
       "         141143.67583933, 135592.84364348]),\n",
       "  'base_mse': 306935.6206591561},\n",
       " 'random_groups_6': {'ngroups': 20,\n",
       "  'mses_e': array([306935.62065916, 174129.03835951, 143334.5989014 , 132153.14698693,\n",
       "         126188.64430359, 122098.80403846]),\n",
       "  'mses_er': array([306935.62065916, 174129.03835951, 149625.27046909, 138212.54467234,\n",
       "         133705.59837986, 130023.8519817 ]),\n",
       "  'base_mse': 306935.6206591561}}"
      ]
     },
     "execution_count": 30,
     "metadata": {},
     "output_type": "execute_result"
    }
   ],
   "source": [
    "for name, group_setups in mse_collector.items():\n",
    "    print(name)\n",
    "    for group, mse_info in group_setups.items():\n",
    "        print(group)\n",
    "        print(mse_info['mses_e']/mse_info['base_mse'])\n",
    "        print(mse_info['mses_er']/mse_info['base_mse'])"
   ]
  },
  {
   "cell_type": "code",
   "execution_count": null,
   "id": "0f5263c1",
   "metadata": {},
   "outputs": [],
   "source": []
  }
 ],
 "metadata": {
  "kernelspec": {
   "display_name": "Python 3 (ipykernel)",
   "language": "python",
   "name": "python3"
  },
  "language_info": {
   "codemirror_mode": {
    "name": "ipython",
    "version": 3
   },
   "file_extension": ".py",
   "mimetype": "text/x-python",
   "name": "python",
   "nbconvert_exporter": "python",
   "pygments_lexer": "ipython3",
   "version": "3.9.16"
  },
  "notebook_module": {
   "alias": "notebook_module",
   "code": "",
   "compatibility": false
  }
 },
 "nbformat": 4,
 "nbformat_minor": 5
}
