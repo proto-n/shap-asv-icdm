{
 "cells": [
  {
   "cell_type": "code",
   "execution_count": 1,
   "id": "cfa43e4f",
   "metadata": {},
   "outputs": [],
   "source": [
    "%load_ext autoreload\n",
    "%autoreload 2"
   ]
  },
  {
   "cell_type": "code",
   "execution_count": 2,
   "id": "8fee6eb6",
   "metadata": {},
   "outputs": [],
   "source": [
    "%matplotlib inline\n",
    "import pandas as pd\n",
    "import numpy as np\n",
    "import matplotlib\n",
    "import matplotlib.pyplot as plt\n",
    "import itertools\n",
    "from tqdm.auto import tqdm"
   ]
  },
  {
   "cell_type": "code",
   "execution_count": 3,
   "id": "987bede4",
   "metadata": {},
   "outputs": [],
   "source": [
    "import data\n",
    "import utils"
   ]
  },
  {
   "cell_type": "code",
   "execution_count": 4,
   "id": "2c55c367",
   "metadata": {},
   "outputs": [],
   "source": [
    "readerTypes = [data.FccPmData]\n",
    "targets = ['PM']"
   ]
  },
  {
   "cell_type": "code",
   "execution_count": 5,
   "id": "a71d1bd2",
   "metadata": {},
   "outputs": [],
   "source": [
    "!mkdir -p models_clean_randgroup"
   ]
  },
  {
   "cell_type": "code",
   "execution_count": 6,
   "id": "a0c87757",
   "metadata": {},
   "outputs": [],
   "source": [
    "def get_group_constraints(groups):\n",
    "    interaction_constraints = []\n",
    "    i=0\n",
    "    for g in groups:\n",
    "        interaction_constraints.append(list(range(i, i+len(g))))\n",
    "        i += len(g)\n",
    "    return interaction_constraints"
   ]
  },
  {
   "cell_type": "code",
   "execution_count": 7,
   "id": "fd729936",
   "metadata": {},
   "outputs": [
    {
     "name": "stdout",
     "output_type": "stream",
     "text": [
      "---------\n",
      "Dataset: PM2.5 Data of Five Chinese Cities\n",
      "Calculating full model mse...\n",
      "Calculating E^r model mse...\n",
      "Calculating random group 2 E^r mse...\n"
     ]
    },
    {
     "data": {
      "application/vnd.jupyter.widget-view+json": {
       "model_id": "5c353977f5964f579a1a847849e7855f",
       "version_major": 2,
       "version_minor": 0
      },
      "text/plain": [
       "  0%|          | 0/100 [00:00<?, ?it/s]"
      ]
     },
     "metadata": {},
     "output_type": "display_data"
    },
    {
     "name": "stdout",
     "output_type": "stream",
     "text": [
      "Calculating random group 3 E^r mse...\n"
     ]
    },
    {
     "data": {
      "application/vnd.jupyter.widget-view+json": {
       "model_id": "24527b33b68b4e3d802f48dac4b4319c",
       "version_major": 2,
       "version_minor": 0
      },
      "text/plain": [
       "  0%|          | 0/100 [00:00<?, ?it/s]"
      ]
     },
     "metadata": {},
     "output_type": "display_data"
    }
   ],
   "source": [
    "mse_collector = {}\n",
    "\n",
    "for ReaderType, target in zip(readerTypes, targets):\n",
    "    reader = ReaderType('data/UCI/archive.ics.uci.edu/ml/machine-learning-databases')\n",
    "    reader.readAndCache()\n",
    "    print(\"---------\")\n",
    "    print(\"Dataset:\", reader.name)\n",
    "    cols = reader.cols\n",
    "    ncols = len(cols)\n",
    "\n",
    "    trainer = utils.Trainer(\n",
    "        cache_dir='models_clean',\n",
    "        default_params={\n",
    "            'objective': 'regression',\n",
    "            'metric': 'mse',\n",
    "            'boosting': 'gbdt',\n",
    "            'num_leaves': 31,\n",
    "            'learning_rate': 0.05,\n",
    "            'verbose': -1,\n",
    "            'device': 'cpu',\n",
    "            'lambda_l2': 0.003,\n",
    "            'early_stopping_round': 10,\n",
    "            'num_boost_round': 100,\n",
    "        },\n",
    "        nocache_params={\n",
    "            'num_threads': 20,\n",
    "        }\n",
    "    )\n",
    "    evaluator = utils.Evaluator(reader, target)\n",
    "    \n",
    "    data_mse = {}\n",
    "    \n",
    "    print(\"Calculating full model mse...\")\n",
    "    trainData = utils.TrainingData(reader, target, columns=cols)\n",
    "    booster = trainer.train_model(trainData)\n",
    "    new_mse = evaluator.get_model_mse(booster)\n",
    "    data_mse['base_mse'] = evaluator.base_mse\n",
    "    data_mse['features_e'] = {'ngroups': 1, 'mse':new_mse}\n",
    "    \n",
    "    print(\"Calculating E^r model mse...\")\n",
    "    booster = trainer.train_model(trainData, {\n",
    "        'interaction_constraints': [[i] for i in range(len(reader.cols))]\n",
    "    })\n",
    "    new_mse = evaluator.get_model_mse(booster)\n",
    "    data_mse['features_er'] = {'ngroups': len(reader.cols), 'mse':new_mse}\n",
    "    mse_collector[reader.name] = data_mse\n",
    "    \n",
    "    #e_r semantic groups\n",
    "    if reader.groups is not None:\n",
    "        print(\"Calculating semantic group E^r mse...\")\n",
    "        trainData = utils.TrainingData(reader, target, columns=[i for g in reader.groups.values() for i in g])\n",
    "        booster = trainer.train_model(trainData, {\n",
    "            'interaction_constraints': get_group_constraints(reader.groups),\n",
    "        })\n",
    "        new_mse = evaluator.get_model_mse(booster)\n",
    "        data_mse['semantic_groups'] = {'ngroups': len(reader.groups), 'mse':new_mse}\n",
    "    \n",
    "    for groupsize in [2,3,5,6]:\n",
    "        np.random.seed(reader.seed)\n",
    "        ngroups = len(cols)//groupsize\n",
    "        if ngroups <= 2:\n",
    "            continue\n",
    "        mses = []\n",
    "        print(\"Calculating random group\", groupsize, \"E^r mse...\")\n",
    "        for i in tqdm(range(100)):\n",
    "            feature_perm = np.random.permutation(cols)\n",
    "            groups = np.array_split(feature_perm, ngroups)[::-1] # array split puts longer groups first, lets switch the order\n",
    "            trainData = utils.TrainingData(reader, target, columns=[i for g in groups for i in g])\n",
    "            booster = trainer.train_model(trainData, {\n",
    "                'interaction_constraints': get_group_constraints(groups),\n",
    "            })\n",
    "            new_mse = evaluator.get_model_mse(booster)\n",
    "            mses.append(new_mse)\n",
    "        data_mse['random_groups_'+str(groupsize)] = {'ngroups': ngroups, 'mse':np.mean(mses)}\n",
    "    mse_collector[reader.name] = data_mse"
   ]
  },
  {
   "cell_type": "markdown",
   "id": "87beacea",
   "metadata": {},
   "source": [
    "#### Prediction power with groupings"
   ]
  },
  {
   "cell_type": "code",
   "execution_count": 8,
   "id": "6de8a4c5",
   "metadata": {},
   "outputs": [
    {
     "name": "stdout",
     "output_type": "stream",
     "text": [
      "PM2.5 Data of Five Chinese Cities\n",
      "- features_e 1 0.733870131667314\n",
      "- features_er 10 0.9067550226094799\n",
      "- random_groups_2 5 0.8445026480042132\n",
      "- random_groups_3 3 0.8021512055150327\n"
     ]
    }
   ],
   "source": [
    "for name, data_mse in mse_collector.items():\n",
    "    print(name)\n",
    "    for kind, mse in data_mse.items():\n",
    "        if kind == \"base_mse\":\n",
    "            continue\n",
    "        print(\"-\", kind, mse['ngroups'], mse['mse']/data_mse['base_mse'])"
   ]
  },
  {
   "cell_type": "code",
   "execution_count": 9,
   "id": "87de16f5",
   "metadata": {},
   "outputs": [
    {
     "name": "stdout",
     "output_type": "stream",
     "text": [
      "\\midrule\n",
      "\\multicolumn{3}{l}{PM2.5 Data of Five Chinese Cities}\\\\\n",
      "\\midrule\n",
      "Base features ($E$)&1&0.7339\\\\\n",
      "Base features ($E^r$)&10&0.9068\\\\\n",
      "Random groups (2)&5&0.8445\\\\\n",
      "Random groups (3)&3&0.8022\\\\\n"
     ]
    }
   ],
   "source": [
    "# latex translate dict\n",
    "ltd = {\n",
    "    'features_e': 'Base features ($E$)',\n",
    "    'features_er': 'Base features ($E^r$)',\n",
    "    'semantic_groups': 'Semantic groups',\n",
    "    'random_groups_2': 'Random groups (2)',\n",
    "    'random_groups_3': 'Random groups (3)',\n",
    "    'random_groups_5': 'Random groups (5)',\n",
    "    'random_groups_6': 'Random groups (6)',\n",
    "}\n",
    "for name, data_mse in mse_collector.items():\n",
    "    print('\\midrule')\n",
    "    print(\"\\multicolumn{3}{l}{%s}\"%name, end=\"\\\\\\\\\\n\")\n",
    "    print('\\midrule')\n",
    "    for kind, mse in data_mse.items():\n",
    "        if kind == \"base_mse\":\n",
    "            continue\n",
    "        print(ltd[kind], mse['ngroups'], \"%.4f\"%(mse['mse']/data_mse['base_mse']), sep=\"&\", end=\"\\\\\\\\\\n\")"
   ]
  },
  {
   "cell_type": "markdown",
   "id": "fc90d569",
   "metadata": {},
   "source": [
    "#### Same on barchart"
   ]
  },
  {
   "cell_type": "code",
   "execution_count": 10,
   "id": "def715ae",
   "metadata": {},
   "outputs": [],
   "source": [
    "labels = list(ltd.keys())\n",
    "data = [[(mse_dict[l]['mse']/mse_dict['base_mse'] if l in mse_dict else 0) for l in labels] for mse_dict in mse_collector.values()]"
   ]
  },
  {
   "cell_type": "code",
   "execution_count": 11,
   "id": "bf586573",
   "metadata": {},
   "outputs": [
    {
     "data": {
      "image/png": "[encoded data removed]",
      "text/plain": [
       "<Figure size 500x200 with 1 Axes>"
      ]
     },
     "metadata": {},
     "output_type": "display_data"
    }
   ],
   "source": [
    "plt.figure(figsize=(5,2))\n",
    "slack = 3\n",
    "width = 1/(len(labels)*(len(data)+slack))\n",
    "pos_0 = np.linspace(0,1,len(data[0])+1)[:-1]\n",
    "for i,d in enumerate(data):\n",
    "    plt.bar(pos_0+i*width, d, width=width)\n",
    "plt.xticks(pos_0+((len(data)-1)*width/2), labels, rotation = 90);"
   ]
  },
  {
   "cell_type": "markdown",
   "id": "80dddc02",
   "metadata": {},
   "source": [
    "# Contributions"
   ]
  },
  {
   "cell_type": "code",
   "execution_count": 12,
   "id": "cf810404",
   "metadata": {},
   "outputs": [
    {
     "name": "stdout",
     "output_type": "stream",
     "text": [
      "---------\n",
      "Dataset: PM2.5 Data of Five Chinese Cities\n",
      "Calculating random group 1 E^r mse...\n"
     ]
    },
    {
     "data": {
      "application/vnd.jupyter.widget-view+json": {
       "model_id": "d97bf6598ca741a9be03be3a0e2f306a",
       "version_major": 2,
       "version_minor": 0
      },
      "text/plain": [
       "  0%|          | 0/100 [00:00<?, ?it/s]"
      ]
     },
     "metadata": {},
     "output_type": "display_data"
    },
    {
     "name": "stdout",
     "output_type": "stream",
     "text": [
      "Calculating random group 2 E^r mse...\n"
     ]
    },
    {
     "data": {
      "application/vnd.jupyter.widget-view+json": {
       "model_id": "b72f957d1a844987b7ffcb27e502bbb7",
       "version_major": 2,
       "version_minor": 0
      },
      "text/plain": [
       "  0%|          | 0/100 [00:00<?, ?it/s]"
      ]
     },
     "metadata": {},
     "output_type": "display_data"
    },
    {
     "name": "stdout",
     "output_type": "stream",
     "text": [
      "Calculating random group 3 E^r mse...\n"
     ]
    },
    {
     "data": {
      "application/vnd.jupyter.widget-view+json": {
       "model_id": "1599ae92c9644f10b2153635796fdf40",
       "version_major": 2,
       "version_minor": 0
      },
      "text/plain": [
       "  0%|          | 0/100 [00:00<?, ?it/s]"
      ]
     },
     "metadata": {},
     "output_type": "display_data"
    }
   ],
   "source": [
    "mse_collector = {}\n",
    "\n",
    "for ReaderType, target in zip(readerTypes, targets):\n",
    "    reader = ReaderType('/mnt/idms/kdomokos/data/UCI/archive.ics.uci.edu/ml/machine-learning-databases')\n",
    "    reader.readAndCache()\n",
    "    print(\"---------\")\n",
    "    print(\"Dataset:\", reader.name)\n",
    "    cols = reader.cols\n",
    "    ncols = len(cols)\n",
    "\n",
    "    trainer = utils.Trainer(\n",
    "        cache_dir='models_clean',\n",
    "        default_params={\n",
    "            'objective': 'regression',\n",
    "            'metric': 'mse',\n",
    "            'boosting': 'gbdt',\n",
    "            'num_leaves': 31,\n",
    "            'learning_rate': 0.05,\n",
    "            'verbose': -1,\n",
    "            'device': 'cpu',\n",
    "            'lambda_l2': 0.003,\n",
    "            'early_stopping_round': 10,\n",
    "            'num_boost_round': 100,\n",
    "        },\n",
    "        nocache_params={\n",
    "            'num_threads': 20,\n",
    "        }\n",
    "    )\n",
    "    evaluator = utils.Evaluator(reader, target)\n",
    "    \n",
    "    data_mse = {}\n",
    "\n",
    "    for groupsize in [1,2,3,5,6]:\n",
    "        np.random.seed(reader.seed)\n",
    "        ngroups = len(cols)//groupsize\n",
    "        if ngroups <= 2:\n",
    "            continue\n",
    "        mses_e = []\n",
    "        mses_er = []\n",
    "        print(\"Calculating random group\", groupsize, \"E^r mse...\")\n",
    "        for i in tqdm(range(100)):\n",
    "            contribs_e = [evaluator.base_mse]\n",
    "            contribs_er = [evaluator.base_mse]\n",
    "            feature_perm = np.random.permutation(cols)\n",
    "            groups = np.array_split(feature_perm, ngroups)[::-1] # array split puts longer groups first, lets switch the order\n",
    "            groups_sofar = []\n",
    "            for g in groups:\n",
    "                groups_sofar.append(g)\n",
    "                trainData = utils.TrainingData(reader, target, columns=[i for g in groups_sofar for i in g])\n",
    "                \n",
    "                booster = trainer.train_model(trainData)\n",
    "                new_mse = evaluator.get_model_mse(booster)\n",
    "                contribs_e.append(new_mse - np.sum(contribs_e))\n",
    "                \n",
    "                booster = trainer.train_model(trainData, {\n",
    "                    'interaction_constraints': get_group_constraints(groups_sofar),\n",
    "                })\n",
    "                new_mse = evaluator.get_model_mse(booster)\n",
    "                contribs_er.append(new_mse - np.sum(contribs_er))\n",
    "                \n",
    "                if len(contribs_e) > 5:\n",
    "                    break\n",
    "            mses_e.append(contribs_e)\n",
    "            mses_er.append(contribs_er)\n",
    "        data_mse['random_groups_'+str(groupsize)] = {\n",
    "            'ngroups': ngroups,\n",
    "            'mses_e':np.array(mses_e).mean(axis=0),\n",
    "            'mses_er':np.array(mses_er).mean(axis=0),\n",
    "            'base_mse':evaluator.base_mse,\n",
    "        }\n",
    "    mse_collector[reader.name] = data_mse"
   ]
  },
  {
   "cell_type": "markdown",
   "id": "368721b3",
   "metadata": {},
   "source": [
    "## Contributions of random groups in random order"
   ]
  },
  {
   "cell_type": "code",
   "execution_count": 13,
   "id": "847a7a04",
   "metadata": {},
   "outputs": [
    {
     "name": "stdout",
     "output_type": "stream",
     "text": [
      "PM2.5 Data of Five Chinese Cities\n",
      "random_groups_1\n",
      "[ 1.00000000e+00 -5.22282299e-04 -1.00183439e-02 -3.77411703e-02\n",
      " -5.16210750e-02 -4.41699794e-02]\n",
      "[ 1.00000000e+00 -5.22282299e-04 -3.90890283e-03 -1.27623041e-02\n",
      " -1.68756670e-02 -1.10641070e-02]\n",
      "random_groups_2\n",
      "[ 1.         -0.01054063 -0.08936231 -0.08523114 -0.05696984 -0.02402596]\n",
      "[ 1.         -0.01054063 -0.05150067 -0.04310268 -0.03273801 -0.01761537]\n",
      "random_groups_3\n",
      "[ 1.         -0.04828254 -0.13685175 -0.08099557]\n",
      "[ 1.         -0.04828254 -0.08441696 -0.0651493 ]\n"
     ]
    }
   ],
   "source": [
    "for name, group_setups in mse_collector.items():\n",
    "    print(name)\n",
    "    for group, mse_info in group_setups.items():\n",
    "        print(group)\n",
    "        print(mse_info['mses_e']/mse_info['base_mse'])\n",
    "        print(mse_info['mses_er']/mse_info['base_mse'])"
   ]
  },
  {
   "cell_type": "code",
   "execution_count": 14,
   "id": "e5509e95",
   "metadata": {},
   "outputs": [
    {
     "name": "stdout",
     "output_type": "stream",
     "text": [
      "Grouping&$\\phi_1$&$\\phi_2$&$\\phi_3$&$\\phi_4$&$\\phi_5$\\\\\n",
      "\\midrule\n",
      "\\multicolumn{6}{l}{PM2.5 Data of Five Chinese Cities}\\\\\n",
      "\\midrule\n",
      "Individual features ($E$) & -0.0005 & -0.0100 & -0.0377 & -0.0516 & -0.0442\\\\\n",
      "Individual features ($E^r$) & -0.0005 & -0.0039 & -0.0128 & -0.0169 & -0.0111\\\\\n",
      "Random groups of size 2 ($E$) & -0.0105 & -0.0894 & -0.0852 & -0.0570 & -0.0240\\\\\n",
      "Random groups of size 2 ($E^r$) & -0.0105 & -0.0515 & -0.0431 & -0.0327 & -0.0176\\\\\n",
      "Random groups of size 3 ($E$) & -0.0483 & -0.1369 & -0.0810\\\\\n",
      "Random groups of size 3 ($E^r$) & -0.0483 & -0.0844 & -0.0651\\\\\n"
     ]
    }
   ],
   "source": [
    "# latex translate dict\n",
    "ltd = {\n",
    "    'random_groups_1': 'Individual features',\n",
    "    'random_groups_2': 'Random groups of size 2',\n",
    "    'random_groups_3': 'Random groups of size 3',\n",
    "    'random_groups_5': 'Random groups of size 5',\n",
    "    'random_groups_6': 'Random groups of size 6',\n",
    "}\n",
    "print(\"Grouping\", *[\"$\\phi_%d$\"%i for i in range(1,6)], sep=\"&\", end=\"\\\\\\\\\\n\")\n",
    "for name, group_setups in mse_collector.items():\n",
    "    print('\\midrule')\n",
    "    print(\"\\multicolumn{6}{l}{%s}\"%name, end=\"\\\\\\\\\\n\")\n",
    "    print('\\midrule')\n",
    "    for group, mse_info in group_setups.items():\n",
    "        print(ltd[group]+\" ($E$)\", *[\"%.4f\"%f for f in mse_info['mses_e'][1:]/mse_info['base_mse']], sep=\" & \", end=\"\\\\\\\\\\n\")\n",
    "        print(ltd[group]+\" ($E^r$)\", *[\"%.4f\"%f for f in mse_info['mses_er'][1:]/mse_info['base_mse']], sep=\" & \", end=\"\\\\\\\\\\n\")"
   ]
  },
  {
   "cell_type": "code",
   "execution_count": 15,
   "id": "3ec21876",
   "metadata": {},
   "outputs": [
    {
     "name": "stdout",
     "output_type": "stream",
     "text": [
      "PM2.5 Data of Five Chinese Cities\n",
      "random_groups_1\n",
      "[ 1.00000000e+00 -5.22282299e-04 -1.00183439e-02 -3.77411703e-02\n",
      " -5.16210750e-02 -4.41699794e-02]\n",
      "[ 1.00000000e+00 -5.22282299e-04 -3.90890283e-03 -1.27623041e-02\n",
      " -1.68756670e-02 -1.10641070e-02]\n",
      "random_groups_2\n",
      "[ 1.         -0.01054063 -0.08936231 -0.08523114 -0.05696984 -0.02402596]\n",
      "[ 1.         -0.01054063 -0.05150067 -0.04310268 -0.03273801 -0.01761537]\n",
      "random_groups_3\n",
      "[ 1.         -0.04828254 -0.13685175 -0.08099557]\n",
      "[ 1.         -0.04828254 -0.08441696 -0.0651493 ]\n"
     ]
    }
   ],
   "source": [
    "for name, group_setups in mse_collector.items():\n",
    "    print(name)\n",
    "    for group, mse_info in group_setups.items():\n",
    "        print(group)\n",
    "        print(mse_info['mses_e']/mse_info['base_mse'])\n",
    "        print(mse_info['mses_er']/mse_info['base_mse'])"
   ]
  },
  {
   "cell_type": "code",
   "execution_count": 16,
   "id": "9e7d05b4",
   "metadata": {},
   "outputs": [],
   "source": [
    "# should be monotonically decreasing for random groups in random order!"
   ]
  },
  {
   "cell_type": "markdown",
   "id": "1eb91d8e",
   "metadata": {},
   "source": [
    "#### Collecting info for oversized contributions"
   ]
  },
  {
   "cell_type": "code",
   "execution_count": 17,
   "id": "5775b98a",
   "metadata": {
    "scrolled": true
   },
   "outputs": [
    {
     "name": "stdout",
     "output_type": "stream",
     "text": [
      "---------\n",
      "Dataset: PM2.5 Data of Five Chinese Cities\n",
      "Calculating random group 2 E^r mse...\n"
     ]
    },
    {
     "data": {
      "application/vnd.jupyter.widget-view+json": {
       "model_id": "a7f3029b5f9e4fb28ba6b53bd3a75aaf",
       "version_major": 2,
       "version_minor": 0
      },
      "text/plain": [
       "  0%|          | 0/100 [00:00<?, ?it/s]"
      ]
     },
     "metadata": {},
     "output_type": "display_data"
    },
    {
     "name": "stdout",
     "output_type": "stream",
     "text": [
      "-----\n",
      "[['cbwd', 'TEMP'], ['precipitation', 'HUMI']]\n",
      "-0.000753852572431768\n",
      "[[246.93076493 -19.73635563]\n",
      " [-19.73635563 146.69496129]]\n",
      "-----\n",
      "[['DEWP', 'HUMI'], ['Iprec', 'cbwd']]\n",
      "-0.00281304504150727\n",
      "[[240.32378829 -21.71197672]\n",
      " [-21.71197672 200.34539151]]\n",
      "-----\n",
      "[['TEMP', 'DEWP'], ['Iprec', 'cbwd']]\n",
      "-0.009008228661991177\n",
      "[[235.0408762  -20.21351582]\n",
      " [-20.21351582 192.19716903]]\n"
     ]
    }
   ],
   "source": [
    "collector = []\n",
    "collector2 = []\n",
    "collector3 = []\n",
    "for ReaderType, target in zip(readerTypes, targets):\n",
    "    reader = ReaderType('/mnt/idms/kdomokos/data/UCI/archive.ics.uci.edu/ml/machine-learning-databases')\n",
    "    reader.readAndCache()\n",
    "    print(\"---------\")\n",
    "    print(\"Dataset:\", reader.name)\n",
    "    cols = reader.cols\n",
    "    ncols = len(cols)\n",
    "\n",
    "    trainer = utils.Trainer(\n",
    "        cache_dir='models_clean',\n",
    "        default_params={\n",
    "            'objective': 'regression',\n",
    "            'metric': 'mse',\n",
    "            'boosting': 'gbdt',\n",
    "            'num_leaves': 31,\n",
    "            'learning_rate': 0.05,\n",
    "            'verbose': -1,\n",
    "            'device': 'cpu',\n",
    "            'lambda_l2': 0.003,\n",
    "            'early_stopping_round': 10,\n",
    "            'num_boost_round': 100,\n",
    "            'max_depth': 3,\n",
    "        },\n",
    "        nocache_params={\n",
    "            'num_threads': 20,\n",
    "        }\n",
    "    )\n",
    "    evaluator = utils.Evaluator(reader, target)\n",
    "\n",
    "    for groupsize in [2]:\n",
    "        np.random.seed(reader.seed)\n",
    "        ngroups = len(cols)//groupsize\n",
    "        if ngroups <= 2:\n",
    "            continue\n",
    "            \n",
    "        print(\"Calculating random group\", groupsize, \"E^r mse...\")\n",
    "        for i in tqdm(range(100)):\n",
    "            contribs_e = [evaluator.base_mse]\n",
    "            contribs_er = [evaluator.base_mse]\n",
    "            feature_perm = np.random.permutation(cols)\n",
    "            groups = np.array_split(feature_perm, ngroups)[::-1] # array split puts longer groups first, lets switch the order\n",
    "            groups = [list(i) for i in groups[:2]]\n",
    "\n",
    "            trainData = utils.TrainingData(reader, target, columns=groups[0])\n",
    "            booster = trainer.train_model(trainData)\n",
    "            first_mse = evaluator.get_model_mse(booster)\n",
    "\n",
    "            trainData = utils.TrainingData(reader, target, columns=groups[1])\n",
    "            booster = trainer.train_model(trainData)\n",
    "            second_mse = evaluator.get_model_mse(booster)\n",
    "\n",
    "            trainData = utils.TrainingData(reader, target, columns=[i for g in groups for i in g])\n",
    "            booster = trainer.train_model(trainData, {\n",
    "                'interaction_constraints': get_group_constraints(groups),\n",
    "            })\n",
    "            both_mse = evaluator.get_model_mse(booster)\n",
    "\n",
    "            cov = utils.get_group_cov(booster, reader.getTest(), get_group_constraints(groups))\n",
    "    \n",
    "            collector.append(((both_mse - first_mse)/evaluator.base_mse - (second_mse - evaluator.base_mse)/evaluator.base_mse, cov.min()))\n",
    "            collector2.append((\n",
    "                groups,\n",
    "                first_mse-evaluator.base_mse, second_mse-evaluator.base_mse, both_mse-evaluator.base_mse,\n",
    "                (both_mse - first_mse)/evaluator.base_mse - (second_mse - evaluator.base_mse)/evaluator.base_mse,\n",
    "                 cov\n",
    "            ))\n",
    "            \n",
    "            features = pd.Series(booster.feature_name())\n",
    "            groups = [list(features[g].values) for g in get_group_constraints(groups)]\n",
    "            group_masks = utils.get_feature_group_masks(booster, groups)\n",
    "            tree_preds = utils.get_tree_predictions(booster, evaluator.eval)\n",
    "            group_pred_parts = np.array([tree_preds.dot(mask) for mask in group_masks]).T\n",
    "            \n",
    "            second_part_mse = evaluator.get_mse(evaluator.eval_y, group_pred_parts[:, 1]-group_pred_parts[:, 1].mean() + evaluator.train_y.mean())\n",
    "            second_part_mse = min(second_part_mse, second_mse)\n",
    "            \n",
    "            collector3.append(((both_mse - first_mse)/evaluator.base_mse - (second_part_mse - evaluator.base_mse)/evaluator.base_mse, cov.min()))\n",
    "            \n",
    "            if ((both_mse - first_mse)/evaluator.base_mse - (second_part_mse - evaluator.base_mse)/evaluator.base_mse) < 0:\n",
    "                print(\"-----\")\n",
    "                print(groups)\n",
    "                print(((both_mse - first_mse)/evaluator.base_mse - (second_part_mse - evaluator.base_mse)/evaluator.base_mse))\n",
    "                print(cov)"
   ]
  },
  {
   "cell_type": "code",
   "execution_count": 18,
   "id": "d488babe",
   "metadata": {},
   "outputs": [
    {
     "data": {
      "text/plain": [
       "<matplotlib.lines.Line2D at 0x7f2d8c11f220>"
      ]
     },
     "execution_count": 18,
     "metadata": {},
     "output_type": "execute_result"
    },
    {
     "data": {
      "image/png": "[encoded data removed]",
      "text/plain": [
       "<Figure size 500x250 with 1 Axes>"
      ]
     },
     "metadata": {},
     "output_type": "display_data"
    }
   ],
   "source": [
    "plt.figure(figsize=(5,2.5))\n",
    "plt.scatter(*np.array(collector).T, s=4)\n",
    "plt.title('Oversized contribution vs. covariance (original)')\n",
    "plt.ylabel('covariance')\n",
    "plt.xlabel('contribution difference (fraction of original variance of T)')\n",
    "plt.tight_layout()\n",
    "plt.axhline(0, color=\"g\", alpha=0.5, linestyle=\"--\")"
   ]
  },
  {
   "cell_type": "code",
   "execution_count": 19,
   "id": "7d6b5a7b",
   "metadata": {},
   "outputs": [
    {
     "data": {
      "text/plain": [
       "<matplotlib.lines.Line2D at 0x7f2d8c148b20>"
      ]
     },
     "execution_count": 19,
     "metadata": {},
     "output_type": "execute_result"
    },
    {
     "data": {
      "image/png": "[encoded data removed]",
      "text/plain": [
       "<Figure size 500x250 with 1 Axes>"
      ]
     },
     "metadata": {},
     "output_type": "display_data"
    }
   ],
   "source": [
    "plt.figure(figsize=(5,2.5))\n",
    "plt.scatter(*np.array(collector3).T, s=4)\n",
    "plt.title('Oversized contribution vs. covariance (fixed)')\n",
    "plt.ylabel('covariance')\n",
    "plt.xlabel('contribution difference (fraction of original variance of T)')\n",
    "plt.tight_layout()\n",
    "plt.axhline(0, color=\"k\", alpha=0.5, linestyle=\"--\")\n",
    "plt.axvline(0, color=\"k\", alpha=0.5, linestyle=\"--\")"
   ]
  },
  {
   "cell_type": "code",
   "execution_count": null,
   "id": "db81e8ad",
   "metadata": {},
   "outputs": [],
   "source": []
  }
 ],
 "metadata": {
  "kernelspec": {
   "display_name": "Python [conda env:lgbm]",
   "language": "python",
   "name": "conda-env-lgbm-py"
  },
  "language_info": {
   "codemirror_mode": {
    "name": "ipython",
    "version": 3
   },
   "file_extension": ".py",
   "mimetype": "text/x-python",
   "name": "python",
   "nbconvert_exporter": "python",
   "pygments_lexer": "ipython3",
   "version": "3.8.15"
  }
 },
 "nbformat": 4,
 "nbformat_minor": 5
}
