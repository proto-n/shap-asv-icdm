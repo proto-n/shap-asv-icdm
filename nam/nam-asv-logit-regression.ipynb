{
 "cells": [
  {
   "cell_type": "code",
   "execution_count": 1,
   "id": "0134c329",
   "metadata": {},
   "outputs": [],
   "source": [
    "import sys\n",
    "sys.path.append('nam')"
   ]
  },
  {
   "cell_type": "code",
   "execution_count": 2,
   "id": "b8da67c5",
   "metadata": {},
   "outputs": [],
   "source": [
    "%matplotlib inline\n",
    "import matplotlib.pyplot as plt"
   ]
  },
  {
   "cell_type": "code",
   "execution_count": 3,
   "id": "e1f2dfab",
   "metadata": {},
   "outputs": [],
   "source": [
    "from itertools import combinations"
   ]
  },
  {
   "cell_type": "code",
   "execution_count": 4,
   "id": "ff59e85c",
   "metadata": {},
   "outputs": [
    {
     "name": "stderr",
     "output_type": "stream",
     "text": [
      "/mnt/idms/kdomokos/ericcson/rishap/supplementary/nam/nam/nam/trainer/trainer.py:11: TqdmExperimentalWarning: Using `tqdm.autonotebook.tqdm` in notebook mode. Use `tqdm.tqdm` instead to force console mode (e.g. in jupyter console)\n",
      "  from tqdm.autonotebook import tqdm\n"
     ]
    }
   ],
   "source": [
    "import torch\n",
    "import numpy as np\n",
    "import pandas as pd\n",
    "import sklearn.metrics as sk_metrics\n",
    "from sklearn.model_selection import train_test_split\n",
    "from sklearn.preprocessing import MinMaxScaler\n",
    "from sklearn.preprocessing import OneHotEncoder\n",
    "from torch.utils.data import random_split\n",
    "\n",
    "from nam.wrapper import NAMClassifier, MultiTaskNAMClassifier"
   ]
  },
  {
   "cell_type": "code",
   "execution_count": 5,
   "id": "1f820a52",
   "metadata": {},
   "outputs": [],
   "source": [
    "random_state = 2016"
   ]
  },
  {
   "cell_type": "code",
   "execution_count": 6,
   "id": "bb4cfd82",
   "metadata": {},
   "outputs": [],
   "source": [
    "import data_utils\n",
    "data_x, data_y, columns = data_utils.load_dataset(\"Recidivism\")\n",
    "original_dfs = data_utils.load_recidivism_data()"
   ]
  },
  {
   "cell_type": "code",
   "execution_count": 7,
   "id": "6edd59fc",
   "metadata": {},
   "outputs": [],
   "source": [
    "X_train, X_test, y_train, y_test = train_test_split(data_x, data_y, test_size=0.2, random_state=random_state)"
   ]
  },
  {
   "cell_type": "code",
   "execution_count": 8,
   "id": "b267131d",
   "metadata": {},
   "outputs": [],
   "source": [
    "device=\"cuda:7\""
   ]
  },
  {
   "cell_type": "code",
   "execution_count": 9,
   "id": "31343c21",
   "metadata": {
    "scrolled": true
   },
   "outputs": [
    {
     "name": "stdout",
     "output_type": "stream",
     "text": [
      "CPU times: user 3.04 s, sys: 1.57 s, total: 4.61 s\n",
      "Wall time: 1min 15s\n"
     ]
    },
    {
     "data": {
      "text/plain": [
       "<nam.wrapper.wrapper.NAMClassifier at 0x7fdb39b93e20>"
      ]
     },
     "execution_count": 9,
     "metadata": {},
     "output_type": "execute_result"
    }
   ],
   "source": [
    "%%time\n",
    "model = NAMClassifier(\n",
    "    num_epochs=1000,\n",
    "    num_learners=20,\n",
    "    metric='auroc',\n",
    "    early_stop_mode='max',\n",
    "    monitor_loss=False,\n",
    "    n_jobs=10,\n",
    "    random_state=random_state,\n",
    "    device=device\n",
    ")\n",
    "\n",
    "model.fit(X_train, y_train)"
   ]
  },
  {
   "cell_type": "markdown",
   "id": "6ca89920",
   "metadata": {},
   "source": [
    "# regression trained on the logits"
   ]
  },
  {
   "cell_type": "markdown",
   "id": "226022f4",
   "metadata": {},
   "source": [
    "let's train a regression model to predict the predicted logits\n",
    "\n",
    "full model first, to test how well it reproduces the original"
   ]
  },
  {
   "cell_type": "code",
   "execution_count": 10,
   "id": "6f15e1c7",
   "metadata": {},
   "outputs": [],
   "source": [
    "y_train_regression = super(NAMClassifier, model).predict(X_train)\n",
    "y_test_regression = super(NAMClassifier, model).predict(X_test)"
   ]
  },
  {
   "cell_type": "code",
   "execution_count": 11,
   "id": "0f1c02db",
   "metadata": {},
   "outputs": [],
   "source": [
    "from nam.wrapper import NAMRegressor"
   ]
  },
  {
   "cell_type": "code",
   "execution_count": 12,
   "id": "339fbe93",
   "metadata": {},
   "outputs": [
    {
     "name": "stdout",
     "output_type": "stream",
     "text": [
      "CPU times: user 10.8 s, sys: 828 ms, total: 11.6 s\n",
      "Wall time: 1min 23s\n"
     ]
    },
    {
     "data": {
      "text/plain": [
       "<nam.wrapper.wrapper.NAMRegressor at 0x7fdb3a287370>"
      ]
     },
     "execution_count": 12,
     "metadata": {},
     "output_type": "execute_result"
    }
   ],
   "source": [
    "%%time\n",
    "model = NAMRegressor(\n",
    "    num_epochs=1000,\n",
    "    num_learners=20,\n",
    "    monitor_loss=False,\n",
    "    n_jobs=10,\n",
    "    output_reg=0,\n",
    "    metric=\"mse\",\n",
    "    random_state=random_state,\n",
    "    device=device\n",
    ")\n",
    "\n",
    "model.fit(X_train, y_train_regression)"
   ]
  },
  {
   "cell_type": "code",
   "execution_count": 13,
   "id": "13a160ff",
   "metadata": {},
   "outputs": [
    {
     "data": {
      "text/plain": [
       "0.7332789080800158"
      ]
     },
     "execution_count": 13,
     "metadata": {},
     "output_type": "execute_result"
    }
   ],
   "source": [
    "pred = model.predict(X_test)\n",
    "sk_metrics.roc_auc_score(y_test, pred)"
   ]
  },
  {
   "cell_type": "code",
   "execution_count": 14,
   "id": "5d9dfc6c",
   "metadata": {},
   "outputs": [],
   "source": [
    "def var(x):\n",
    "    return np.mean((x-x.mean())**2)"
   ]
  },
  {
   "cell_type": "code",
   "execution_count": 15,
   "id": "61a0d875",
   "metadata": {},
   "outputs": [
    {
     "data": {
      "text/plain": [
       "0.01273581179877551"
      ]
     },
     "execution_count": 15,
     "metadata": {},
     "output_type": "execute_result"
    }
   ],
   "source": [
    "var(y_train_regression-model.predict(X_train))"
   ]
  },
  {
   "cell_type": "code",
   "execution_count": 16,
   "id": "5fae964a",
   "metadata": {},
   "outputs": [
    {
     "data": {
      "text/plain": [
       "0.011861964422434536"
      ]
     },
     "execution_count": 16,
     "metadata": {},
     "output_type": "execute_result"
    }
   ],
   "source": [
    "var(y_test_regression-pred)"
   ]
  },
  {
   "cell_type": "code",
   "execution_count": 17,
   "id": "fd87a43e",
   "metadata": {},
   "outputs": [],
   "source": [
    "# very closely reproduces the original!"
   ]
  },
  {
   "cell_type": "markdown",
   "id": "97ccbe07",
   "metadata": {},
   "source": [
    "# coalition models trained to predict logits"
   ]
  },
  {
   "cell_type": "code",
   "execution_count": 18,
   "id": "9cf26c0d",
   "metadata": {},
   "outputs": [
    {
     "name": "stdout",
     "output_type": "stream",
     "text": [
      "age 0.17107915620188596 0.6100990859758927\n",
      "race 0.16669399068332816 0.5578775218367988\n",
      "sex 0.19120595533944848 0.5455197878482283\n",
      "priors_count 0.08042203168255756 0.681833704172069\n",
      "length_of_stay 0.19391522325335458 0.585428972376516\n",
      "c_charge_degree 0.16825890326150997 0.565035509809885\n",
      "CPU times: user 1min 4s, sys: 4.71 s, total: 1min 8s\n",
      "Wall time: 3min 56s\n"
     ]
    }
   ],
   "source": [
    "%%time\n",
    "single_models = []\n",
    "for i in range(len(columns)):\n",
    "    X_train_f = X_train[:, i:i+1]\n",
    "    X_test_f = X_test[:, i:i+1]\n",
    "    model = NAMRegressor(\n",
    "        num_epochs=1000,\n",
    "        num_learners=20,\n",
    "        metric=\"mse\",\n",
    "        monitor_loss=False,\n",
    "        n_jobs=10,\n",
    "        output_reg=0,\n",
    "        random_state=random_state,\n",
    "        device=device\n",
    "    )\n",
    "\n",
    "    model.fit(X_train_f, y_train_regression)\n",
    "    pred = model.predict(X_test_f)\n",
    "    print(columns[i], var(y_test_regression-pred), sk_metrics.roc_auc_score(y_test, pred))\n",
    "    single_models.append(model)"
   ]
  },
  {
   "cell_type": "code",
   "execution_count": 19,
   "id": "0a88ce0f",
   "metadata": {},
   "outputs": [
    {
     "name": "stdout",
     "output_type": "stream",
     "text": [
      "age race 0.14230508495867533 0.6083089220064777\n",
      "age sex 0.15688721525120833 0.6302524371308287\n",
      "age priors_count 0.03125010166825436 0.7349970386259224\n",
      "age length_of_stay 0.15934563912709646 0.6458036528949432\n",
      "age c_charge_degree 0.14061561311922205 0.6333071878685044\n",
      "race sex 0.15327305369880792 0.5838895914370934\n",
      "race priors_count 0.06690797176675162 0.6758495942117142\n",
      "race length_of_stay 0.1601576499481214 0.5794822130802026\n",
      "race c_charge_degree 0.1385886563860222 0.597864075597744\n",
      "sex priors_count 0.0772788781758321 0.6883220480969836\n",
      "sex length_of_stay 0.18323616105724502 0.5945638776392246\n",
      "sex c_charge_degree 0.1587809327309068 0.5948386718103866\n",
      "priors_count length_of_stay 0.07963690535277586 0.6813081269709145\n",
      "priors_count c_charge_degree 0.06850494791311168 0.6861930602466211\n",
      "length_of_stay c_charge_degree 0.16349815711099525 0.6072844466499122\n",
      "CPU times: user 2min 59s, sys: 14.8 s, total: 3min 14s\n",
      "Wall time: 12min 20s\n"
     ]
    }
   ],
   "source": [
    "%%time\n",
    "double_models = {}\n",
    "for i,j in combinations(range(len(columns)), 2):\n",
    "    X_train_f = X_train[:, [i,j]]\n",
    "    X_test_f = X_test[:, [i,j]]\n",
    "    model = NAMRegressor(\n",
    "        num_epochs=1000,\n",
    "        num_learners=20,\n",
    "        metric=\"mse\",\n",
    "        monitor_loss=False,\n",
    "        n_jobs=10,\n",
    "        output_reg=0,\n",
    "        random_state=random_state,\n",
    "        device=device\n",
    "    )\n",
    "\n",
    "    model.fit(X_train_f, y_train_regression)\n",
    "    pred = model.predict(X_test_f)\n",
    "    print(columns[i], columns[j], var(y_test_regression-pred), sk_metrics.roc_auc_score(y_test, pred))\n",
    "    double_models[(i,j)] = model"
   ]
  },
  {
   "cell_type": "code",
   "execution_count": 20,
   "id": "aa70d7bb",
   "metadata": {},
   "outputs": [
    {
     "data": {
      "text/plain": [
       "0.21310962966641314"
      ]
     },
     "execution_count": 20,
     "metadata": {},
     "output_type": "execute_result"
    }
   ],
   "source": [
    "full_var = var(y_train_regression)\n",
    "full_var"
   ]
  },
  {
   "cell_type": "code",
   "execution_count": 21,
   "id": "df72edff",
   "metadata": {},
   "outputs": [],
   "source": [
    "full_logit = y_test_regression\n",
    "single_logits = [m.predict(X_test[:,[i]]) for i, m in enumerate(single_models)]\n",
    "double_logits = {k: m.predict(X_test[:, k]) for k, m in double_models.items()}"
   ]
  },
  {
   "cell_type": "code",
   "execution_count": 22,
   "id": "a41d4c2f",
   "metadata": {},
   "outputs": [
    {
     "name": "stdout",
     "output_type": "stream",
     "text": [
      "age 0.19941546778804065\n",
      "race 0.21818799226446683\n",
      "sex 0.10056671854559929\n",
      "priors_count 0.6310137063310823\n",
      "length_of_stay 0.09084749958978666\n",
      "c_charge_degree 0.20889018056609499\n"
     ]
    }
   ],
   "source": [
    "r2_single = []\n",
    "for i,sl in enumerate(single_logits):\n",
    "    print(columns[i], 1-var(sl-full_logit)/full_var)\n",
    "    r2_single.append(1-var(sl-full_logit)/full_var)"
   ]
  },
  {
   "cell_type": "code",
   "execution_count": 23,
   "id": "0b24c2e9",
   "metadata": {},
   "outputs": [
    {
     "name": "stdout",
     "output_type": "stream",
     "text": [
      "age race 0.3314025839475585\n",
      "age sex 0.2720364133336858\n",
      "age priors_count 0.8503636422544762\n",
      "age length_of_stay 0.25250392744986727\n",
      "age c_charge_degree 0.33236192447146007\n",
      "race sex 0.27694926120562435\n",
      "race priors_count 0.6849630416490041\n",
      "race length_of_stay 0.24866709912570928\n",
      "race c_charge_degree 0.3476435490316616\n",
      "sex priors_count 0.6400827923550148\n",
      "sex length_of_stay 0.1387248750855068\n",
      "sex c_charge_degree 0.2613899460077538\n",
      "priors_count length_of_stay 0.6288888457355589\n",
      "priors_count c_charge_degree 0.6786179101305426\n",
      "length_of_stay c_charge_degree 0.22737137230683047\n"
     ]
    }
   ],
   "source": [
    "r2_double = {}\n",
    "for i,j in double_logits.keys():\n",
    "    print(columns[i], columns[j], 1-var(double_logits[(i,j)]-full_logit)/full_var)\n",
    "    r2_double[(i,j)] = (1-var(double_logits[(i,j)]-full_logit)/full_var)\n",
    "    r2_double[(j,i)] = (1-var(double_logits[(i,j)]-full_logit)/full_var)"
   ]
  },
  {
   "cell_type": "code",
   "execution_count": 24,
   "id": "05cb1377",
   "metadata": {},
   "outputs": [
    {
     "name": "stdout",
     "output_type": "stream",
     "text": [
      "|age|race|sex|priors_count|length_of_stay|c_charge_degree|\n",
      "|---|---|---|---|---|---|\n",
      "|0.199|0.218|0.101|0.631|0.091|0.209|\n"
     ]
    }
   ],
   "source": [
    "print(\"\", *columns, sep=\"|\", end=\"|\\n\")\n",
    "print(\"\", *([\"---\"]*len(columns)), sep=\"|\", end=\"|\\n\")\n",
    "print(\"\", *[\"%.3f\"%v for v in r2_single], sep=\"|\", end=\"|\\n\")"
   ]
  },
  {
   "cell_type": "code",
   "execution_count": 25,
   "id": "973bb2cc",
   "metadata": {},
   "outputs": [
    {
     "name": "stdout",
     "output_type": "stream",
     "text": [
      "||age|race|sex|priors_count|length_of_stay|c_charge_degree|\n",
      "|---|---|---|---|---|---|---|\n",
      "|age||0.331|0.272|0.850|0.253|0.332|\n",
      "|race|0.331||0.277|0.685|0.249|0.348|\n",
      "|sex|0.272|0.277||0.640|0.139|0.261|\n",
      "|priors_count|0.850|0.685|0.640||0.629|0.679|\n",
      "|length_of_stay|0.253|0.249|0.139|0.629||0.227|\n",
      "|c_charge_degree|0.332|0.348|0.261|0.679|0.227||\n"
     ]
    }
   ],
   "source": [
    "print(\"\", \"\", *columns, sep=\"|\", end=\"|\\n\")\n",
    "print(\"\", *([\"---\"]*(len(columns)+1)), sep=\"|\", end=\"|\\n\")\n",
    "for i in range(len(columns)):\n",
    "    print(\"\", columns[i], sep=\"|\", end=\"|\")\n",
    "    print(*[\"%.3f\"%r2_double[(i,j)] if i!= j else \"\" for j in range(len(columns))], sep=\"|\", end=\"|\\n\")"
   ]
  },
  {
   "cell_type": "code",
   "execution_count": 26,
   "id": "e9d5cad4",
   "metadata": {},
   "outputs": [
    {
     "name": "stdout",
     "output_type": "stream",
     "text": [
      "||age|race|sex|priors_count|length_of_stay|c_charge_degree|\n",
      "|---|---|---|---|---|---|---|\n",
      "|age||-0.086|-0.028|0.020|-0.038|-0.076|\n",
      "|race|-0.086||-0.042|-0.164|-0.060|-0.079|\n",
      "|sex|-0.028|-0.042||-0.091|-0.053|-0.048|\n",
      "|priors_count|0.020|-0.164|-0.091||-0.093|-0.161|\n",
      "|length_of_stay|-0.038|-0.060|-0.053|-0.093||-0.072|\n",
      "|c_charge_degree|-0.076|-0.079|-0.048|-0.161|-0.072||\n"
     ]
    }
   ],
   "source": [
    "print(\"\", \"\", *columns, sep=\"|\", end=\"|\\n\")\n",
    "print(\"\", *([\"---\"]*(len(columns)+1)), sep=\"|\", end=\"|\\n\")\n",
    "for i in range(len(columns)):\n",
    "    print(\"\", columns[i], sep=\"|\", end=\"|\")\n",
    "    print(*[\"%.3f\"%((r2_double[(i,j)]-r2_single[i]-r2_single[j])) if i!= j else \"\" for j in range(len(columns))], sep=\"|\", end=\"|\\n\")"
   ]
  },
  {
   "cell_type": "code",
   "execution_count": 27,
   "id": "f1903aa0",
   "metadata": {},
   "outputs": [],
   "source": [
    "# no positive interaction except for priors_count x age"
   ]
  },
  {
   "cell_type": "markdown",
   "id": "5342c421",
   "metadata": {},
   "source": [
    "# priors count x age investigation"
   ]
  },
  {
   "cell_type": "code",
   "execution_count": 28,
   "id": "0f8fb7c0",
   "metadata": {},
   "outputs": [
    {
     "data": {
      "text/plain": [
       "('age', 'priors_count')"
      ]
     },
     "execution_count": 28,
     "metadata": {},
     "output_type": "execute_result"
    }
   ],
   "source": [
    "columns[0], columns[3]"
   ]
  },
  {
   "cell_type": "code",
   "execution_count": 29,
   "id": "2ca8152c",
   "metadata": {},
   "outputs": [],
   "source": [
    "X0=np.zeros_like(X_test)\n",
    "X0[:, 0] = X_test[:, 0]\n",
    "X3=np.zeros_like(X_test)\n",
    "X3[:, 3] = X_test[:, 3]"
   ]
  },
  {
   "cell_type": "code",
   "execution_count": 30,
   "id": "fabc5a02",
   "metadata": {},
   "outputs": [
    {
     "data": {
      "text/plain": [
       "array([[0.03546889, 0.00038584],\n",
       "       [0.00038584, 0.00771755]])"
      ]
     },
     "execution_count": 30,
     "metadata": {},
     "output_type": "execute_result"
    }
   ],
   "source": [
    "np.cov(double_models[(0,3)].predict(X0), double_models[(0,3)].predict(X3))"
   ]
  },
  {
   "cell_type": "code",
   "execution_count": 31,
   "id": "8eaa8400",
   "metadata": {},
   "outputs": [],
   "source": [
    "# possible example D situation!"
   ]
  },
  {
   "cell_type": "code",
   "execution_count": 32,
   "id": "7caa6c2f",
   "metadata": {},
   "outputs": [
    {
     "data": {
      "text/plain": [
       "(0.8540800595969168, 0.9987154707622062)"
      ]
     },
     "execution_count": 32,
     "metadata": {},
     "output_type": "execute_result"
    }
   ],
   "source": [
    "var(y_test_regression-double_models[(0,3)].predict(X0))/full_var, var(y_test_regression-double_models[(0,3)].predict(X3))/full_var"
   ]
  },
  {
   "cell_type": "code",
   "execution_count": 33,
   "id": "b8f26091",
   "metadata": {},
   "outputs": [
    {
     "data": {
      "text/plain": [
       "(0.8005845322119594, 0.3689862936689177)"
      ]
     },
     "execution_count": 33,
     "metadata": {},
     "output_type": "execute_result"
    }
   ],
   "source": [
    "var(y_test_regression-single_logits[0])/full_var, var(y_test_regression-single_logits[3])/full_var"
   ]
  },
  {
   "cell_type": "code",
   "execution_count": 38,
   "id": "f65c9d22",
   "metadata": {},
   "outputs": [],
   "source": [
    "# probably just randomness, will need a bit further investigation"
   ]
  }
 ],
 "metadata": {
  "kernelspec": {
   "display_name": "Python [conda env:torch2] *",
   "language": "python",
   "name": "conda-env-torch2-py"
  },
  "language_info": {
   "codemirror_mode": {
    "name": "ipython",
    "version": 3
   },
   "file_extension": ".py",
   "mimetype": "text/x-python",
   "name": "python",
   "nbconvert_exporter": "python",
   "pygments_lexer": "ipython3",
   "version": "3.9.16"
  }
 },
 "nbformat": 4,
 "nbformat_minor": 5
}
